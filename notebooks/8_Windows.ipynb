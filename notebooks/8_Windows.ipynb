{
 "cells": [
  {
   "cell_type": "markdown",
   "id": "c56119d8-fd30-4ece-80db-a51a17561949",
   "metadata": {},
   "source": [
    "# Windowing in Apache Iceberg"
   ]
  },
  {
   "cell_type": "code",
   "execution_count": 16,
   "id": "d2a0218c-bcba-4bf3-bd55-0909ba6ffbcc",
   "metadata": {},
   "outputs": [],
   "source": [
    "from pyspark.sql import SparkSession\n",
    "import os"
   ]
  },
  {
   "cell_type": "code",
   "execution_count": 17,
   "id": "f086b397-6223-40a6-9634-cb9e0a0ab489",
   "metadata": {},
   "outputs": [],
   "source": [
    "spark = (\n",
    "    SparkSession.builder\n",
    "    .appName(\"Windowing in Apache Iceberg\")\n",
    "    .master(\"spark://spark:7077\") \n",
    "    .getOrCreate()\n",
    ")"
   ]
  },
  {
   "cell_type": "markdown",
   "id": "35a9e6ea-2d35-42c6-ac9f-0440d8f62ee4",
   "metadata": {},
   "source": [
    "First let's take a look at the timestamp when the orders arrived"
   ]
  },
  {
   "cell_type": "code",
   "execution_count": 18,
   "id": "c2914a91-d037-49e7-8924-96d743a42b7c",
   "metadata": {},
   "outputs": [
    {
     "name": "stdout",
     "output_type": "stream",
     "text": [
      "+--------------------+-------------------+-----------+\n",
      "|            order_id|         event_time|customer_id|\n",
      "+--------------------+-------------------+-----------+\n",
      "|36d8d5cf-b6c3-4c1...|2025-10-03 10:58:05|         12|\n",
      "|36d8d5cf-b6c3-4c1...|2025-10-03 10:58:05|         12|\n",
      "|61b24c9a-4f2e-4b3...|2025-10-04 18:03:17|          8|\n",
      "|3f06bb49-b6cd-4a3...|2025-10-01 09:13:45|          3|\n",
      "|52d2ce38-3fc1-4a4...|2025-10-02 14:25:30|          7|\n",
      "+--------------------+-------------------+-----------+\n",
      "only showing top 5 rows\n",
      "\n"
     ]
    }
   ],
   "source": [
    "spark.sql(\"\"\"\n",
    "SELECT \n",
    "    id AS order_id,\n",
    "    timestamp AS event_time,\n",
    "    customer_id\n",
    "FROM ice.demo.orders\n",
    "\"\"\").show(5)"
   ]
  },
  {
   "cell_type": "markdown",
   "id": "c7efd2fb-3991-414a-b58b-d0a587bf9501",
   "metadata": {},
   "source": [
    "## Fixed Windows\n",
    "\n",
    "Fixed, non-overlapping intervals (e.g., every day, every week)."
   ]
  },
  {
   "cell_type": "code",
   "execution_count": 19,
   "id": "1d4a5d35-4c5f-4ea2-a822-0f3ae5746a8d",
   "metadata": {},
   "outputs": [
    {
     "name": "stdout",
     "output_type": "stream",
     "text": [
      "+-------------------+-------------------+-------------+\n",
      "|window_start       |window_end         |total_revenue|\n",
      "+-------------------+-------------------+-------------+\n",
      "|2025-10-01 00:00:00|2025-10-03 00:00:00|2459.6       |\n",
      "|2025-10-03 00:00:00|2025-10-05 00:00:00|2359.76      |\n",
      "|2025-10-05 00:00:00|2025-10-07 00:00:00|1139.8       |\n",
      "|2025-10-07 00:00:00|2025-10-09 00:00:00|2839.72      |\n",
      "|2025-10-09 00:00:00|2025-10-11 00:00:00|3159.64      |\n",
      "|2025-10-11 00:00:00|2025-10-13 00:00:00|1499.76      |\n",
      "|2025-10-13 00:00:00|2025-10-15 00:00:00|2059.84      |\n",
      "|2025-10-15 00:00:00|2025-10-17 00:00:00|1339.76      |\n",
      "|2025-10-17 00:00:00|2025-10-19 00:00:00|799.84       |\n",
      "+-------------------+-------------------+-------------+\n",
      "\n"
     ]
    }
   ],
   "source": [
    "spark.sql(\"\"\"\n",
    "SELECT\n",
    "    window.start AS window_start,\n",
    "    window.end   AS window_end,\n",
    "    ROUND(SUM(oi.quantity * p.price), 2) AS total_revenue\n",
    "FROM ice.demo.order_items oi\n",
    "JOIN ice.demo.orders o ON oi.order_id = o.id\n",
    "JOIN ice.demo.products p ON oi.product_id = p.product_id\n",
    "GROUP BY window(o.timestamp, '2 days')\n",
    "ORDER BY window_start\n",
    "\"\"\").show(truncate=False)"
   ]
  },
  {
   "cell_type": "markdown",
   "id": "7e37e8d7-e8d3-42ac-a8bb-bf8ee15c9a33",
   "metadata": {},
   "source": [
    "## Hopping Windows\n",
    "\n",
    "Overlapping windows, e.g., “every day, looking back 3 days”."
   ]
  },
  {
   "cell_type": "code",
   "execution_count": 20,
   "id": "88c12694-e69f-44d4-bc80-062c4c85e9e7",
   "metadata": {},
   "outputs": [
    {
     "name": "stdout",
     "output_type": "stream",
     "text": [
      "+-------------------+-------------------+-------+\n",
      "|window_start       |window_end         |revenue|\n",
      "+-------------------+-------------------+-------+\n",
      "|2025-09-29 00:00:00|2025-10-02 00:00:00|519.88 |\n",
      "|2025-09-30 00:00:00|2025-10-03 00:00:00|2459.6 |\n",
      "|2025-10-01 00:00:00|2025-10-04 00:00:00|3859.48|\n",
      "|2025-10-02 00:00:00|2025-10-05 00:00:00|4299.48|\n",
      "|2025-10-03 00:00:00|2025-10-06 00:00:00|3099.68|\n",
      "|2025-10-04 00:00:00|2025-10-07 00:00:00|2099.68|\n",
      "|2025-10-05 00:00:00|2025-10-08 00:00:00|2919.72|\n",
      "|2025-10-06 00:00:00|2025-10-09 00:00:00|3239.6 |\n",
      "|2025-10-07 00:00:00|2025-10-10 00:00:00|3719.6 |\n",
      "|2025-10-08 00:00:00|2025-10-11 00:00:00|4219.44|\n",
      "|2025-10-09 00:00:00|2025-10-12 00:00:00|4079.52|\n",
      "|2025-10-10 00:00:00|2025-10-13 00:00:00|3779.52|\n",
      "|2025-10-11 00:00:00|2025-10-14 00:00:00|3239.68|\n",
      "|2025-10-12 00:00:00|2025-10-15 00:00:00|2639.72|\n",
      "|2025-10-13 00:00:00|2025-10-16 00:00:00|2899.72|\n",
      "|2025-10-14 00:00:00|2025-10-17 00:00:00|1659.68|\n",
      "|2025-10-15 00:00:00|2025-10-18 00:00:00|2139.6 |\n",
      "|2025-10-16 00:00:00|2025-10-19 00:00:00|1299.72|\n",
      "|2025-10-17 00:00:00|2025-10-20 00:00:00|799.84 |\n",
      "+-------------------+-------------------+-------+\n",
      "\n"
     ]
    }
   ],
   "source": [
    "spark.sql(\"\"\"\n",
    "SELECT\n",
    "    window.start AS window_start,\n",
    "    window.end AS window_end,\n",
    "    ROUND(SUM(oi.quantity * p.price), 2) AS revenue\n",
    "FROM ice.demo.order_items oi\n",
    "JOIN ice.demo.orders o ON oi.order_id = o.id\n",
    "JOIN ice.demo.products p ON oi.product_id = p.product_id\n",
    "GROUP BY window(o.timestamp, '3 days', '1 day')\n",
    "ORDER BY window_start\n",
    "\"\"\").show(truncate=False)"
   ]
  },
  {
   "cell_type": "markdown",
   "id": "0a17182d-5078-43ab-9a8c-980812515d94",
   "metadata": {},
   "source": [
    "## Session Windows\n",
    "\n",
    "Dynamic, gap-based windows — when activity pauses longer than a threshold, the window closes. Group all order events from the same customer into sessions, separated by 12 hours of inactivity."
   ]
  },
  {
   "cell_type": "code",
   "execution_count": 21,
   "id": "8e112599-1b47-4cbe-be16-5d243a842154",
   "metadata": {},
   "outputs": [
    {
     "name": "stdout",
     "output_type": "stream",
     "text": [
      "+-----------+-------------------+-------------------+---------------+\n",
      "|customer_id|session_start      |session_end        |session_revenue|\n",
      "+-----------+-------------------+-------------------+---------------+\n",
      "|1          |2025-10-10 11:55:08|2025-10-10 23:55:08|1679.84        |\n",
      "|2          |2025-10-06 08:24:09|2025-10-06 20:24:09|399.88         |\n",
      "|3          |2025-10-01 09:13:45|2025-10-01 21:13:45|519.88         |\n",
      "|4          |2025-10-10 16:21:55|2025-10-11 04:21:55|599.92         |\n",
      "|5          |2025-10-08 09:35:33|2025-10-08 21:35:33|719.88         |\n",
      "|6          |2025-10-15 13:59:41|2025-10-16 01:59:41|839.88         |\n",
      "|7          |2025-10-02 14:25:30|2025-10-03 02:25:30|819.84         |\n",
      "|8          |2025-10-04 18:03:17|2025-10-05 06:03:17|959.88         |\n",
      "|9          |2025-10-09 13:10:27|2025-10-10 01:10:27|879.88         |\n",
      "|10         |2025-10-14 11:18:47|2025-10-14 23:18:47|319.92         |\n",
      "|11         |2025-10-16 09:11:34|2025-10-16 21:11:34|499.88         |\n",
      "|12         |2025-10-03 10:58:05|2025-10-03 22:58:05|1399.88        |\n",
      "|13         |2025-10-17 20:47:18|2025-10-18 08:47:18|799.84         |\n",
      "|14         |2025-10-13 15:07:23|2025-10-14 03:07:23|1739.92        |\n",
      "|15         |2025-10-02 16:42:19|2025-10-03 04:42:19|1119.88        |\n",
      "|16         |2025-10-08 17:40:42|2025-10-09 05:40:42|339.92         |\n",
      "|17         |2025-10-11 19:44:03|2025-10-12 07:44:03|919.88         |\n",
      "|19         |2025-10-05 12:47:11|2025-10-06 00:47:11|739.92         |\n",
      "|21         |2025-10-07 20:12:51|2025-10-08 08:12:51|1779.92        |\n",
      "|22         |2025-10-12 08:31:59|2025-10-12 20:31:59|579.88         |\n",
      "+-----------+-------------------+-------------------+---------------+\n",
      "\n"
     ]
    }
   ],
   "source": [
    "spark.sql(\"\"\"\n",
    "SELECT\n",
    "    o.customer_id,\n",
    "    session_window.start AS session_start,\n",
    "    session_window.end AS session_end,\n",
    "    ROUND(SUM(oi.quantity * p.price), 2) AS session_revenue\n",
    "FROM ice.demo.orders o\n",
    "JOIN ice.demo.order_items oi ON o.id = oi.order_id\n",
    "JOIN ice.demo.products p ON oi.product_id = p.product_id\n",
    "GROUP BY o.customer_id, session_window(o.timestamp, '12 hours')\n",
    "ORDER BY o.customer_id, session_start\n",
    "\"\"\").show(truncate=False)"
   ]
  },
  {
   "cell_type": "markdown",
   "id": "8eabf523-7721-4672-af1c-14cc1b15124a",
   "metadata": {},
   "source": [
    "## `OVER`\n",
    "\n",
    "`Over` provides some analysis based on rows, of data. `Over` is considered a grouping, in this case, a grouping of rows."
   ]
  },
  {
   "cell_type": "code",
   "execution_count": 26,
   "id": "bfde8498-6886-4e9f-87b4-7e950d7da218",
   "metadata": {},
   "outputs": [
    {
     "name": "stdout",
     "output_type": "stream",
     "text": [
      "+-----------+-------------------+-------------+\n",
      "|customer_id|timestamp          |running_total|\n",
      "+-----------+-------------------+-------------+\n",
      "|1          |2025-10-10 11:55:08|299.99       |\n",
      "|1          |2025-10-10 11:55:08|599.98       |\n",
      "|1          |2025-10-10 11:55:08|719.95       |\n",
      "|1          |2025-10-10 11:55:08|839.92       |\n",
      "|1          |2025-10-10 11:55:08|1139.91      |\n",
      "|1          |2025-10-10 11:55:08|1439.9       |\n",
      "|1          |2025-10-10 11:55:08|1559.87      |\n",
      "|1          |2025-10-10 11:55:08|1679.84      |\n",
      "|2          |2025-10-06 08:24:09|69.98        |\n",
      "|2          |2025-10-06 08:24:09|139.96       |\n",
      "|2          |2025-10-06 08:24:09|169.95       |\n",
      "|2          |2025-10-06 08:24:09|199.94       |\n",
      "|2          |2025-10-06 08:24:09|269.92       |\n",
      "|2          |2025-10-06 08:24:09|339.9        |\n",
      "|2          |2025-10-06 08:24:09|369.89       |\n",
      "|2          |2025-10-06 08:24:09|399.88       |\n",
      "|3          |2025-10-01 09:13:45|79.98        |\n",
      "|3          |2025-10-01 09:13:45|159.96       |\n",
      "|3          |2025-10-01 09:13:45|209.95       |\n",
      "|3          |2025-10-01 09:13:45|259.94       |\n",
      "|3          |2025-10-01 09:13:45|339.92       |\n",
      "|3          |2025-10-01 09:13:45|419.9        |\n",
      "|3          |2025-10-01 09:13:45|469.89       |\n",
      "|3          |2025-10-01 09:13:45|519.88       |\n",
      "|4          |2025-10-10 16:21:55|119.99       |\n",
      "|4          |2025-10-10 16:21:55|239.98       |\n",
      "|4          |2025-10-10 16:21:55|269.97       |\n",
      "|4          |2025-10-10 16:21:55|299.96       |\n",
      "|4          |2025-10-10 16:21:55|419.95       |\n",
      "|4          |2025-10-10 16:21:55|539.94       |\n",
      "|4          |2025-10-10 16:21:55|569.93       |\n",
      "|4          |2025-10-10 16:21:55|599.92       |\n",
      "|5          |2025-10-08 09:35:33|19.99        |\n",
      "|5          |2025-10-08 09:35:33|39.98        |\n",
      "|5          |2025-10-08 09:35:33|199.96       |\n",
      "|5          |2025-10-08 09:35:33|359.94       |\n",
      "|5          |2025-10-08 09:35:33|379.93       |\n",
      "|5          |2025-10-08 09:35:33|399.92       |\n",
      "|5          |2025-10-08 09:35:33|559.9        |\n",
      "|5          |2025-10-08 09:35:33|719.88       |\n",
      "|6          |2025-10-15 13:59:41|179.98       |\n",
      "|6          |2025-10-15 13:59:41|359.96       |\n",
      "|6          |2025-10-15 13:59:41|389.95       |\n",
      "|6          |2025-10-15 13:59:41|419.94       |\n",
      "|6          |2025-10-15 13:59:41|599.92       |\n",
      "|6          |2025-10-15 13:59:41|779.9        |\n",
      "|6          |2025-10-15 13:59:41|809.89       |\n",
      "|6          |2025-10-15 13:59:41|839.88       |\n",
      "|7          |2025-10-02 14:25:30|74.97        |\n",
      "|7          |2025-10-02 14:25:30|149.94       |\n",
      "|7          |2025-10-02 14:25:30|279.93       |\n",
      "|7          |2025-10-02 14:25:30|409.92       |\n",
      "|7          |2025-10-02 14:25:30|484.89       |\n",
      "|7          |2025-10-02 14:25:30|559.86       |\n",
      "|7          |2025-10-02 14:25:30|689.85       |\n",
      "|7          |2025-10-02 14:25:30|819.84       |\n",
      "|8          |2025-10-04 18:03:17|59.99        |\n",
      "|8          |2025-10-04 18:03:17|119.98       |\n",
      "|8          |2025-10-04 18:03:17|299.96       |\n",
      "|8          |2025-10-04 18:03:17|479.94       |\n",
      "|8          |2025-10-04 18:03:17|539.93       |\n",
      "|8          |2025-10-04 18:03:17|599.92       |\n",
      "|8          |2025-10-04 18:03:17|779.9        |\n",
      "|8          |2025-10-04 18:03:17|959.88       |\n",
      "|9          |2025-10-09 13:10:27|59.99        |\n",
      "|9          |2025-10-09 13:10:27|119.98       |\n",
      "|9          |2025-10-09 13:10:27|279.96       |\n",
      "|9          |2025-10-09 13:10:27|439.94       |\n",
      "|9          |2025-10-09 13:10:27|499.93       |\n",
      "|9          |2025-10-09 13:10:27|559.92       |\n",
      "|9          |2025-10-09 13:10:27|719.9        |\n",
      "|9          |2025-10-09 13:10:27|879.88       |\n",
      "|10         |2025-10-14 11:18:47|19.99        |\n",
      "|10         |2025-10-14 11:18:47|39.98        |\n",
      "|10         |2025-10-14 11:18:47|99.97        |\n",
      "|10         |2025-10-14 11:18:47|159.96       |\n",
      "|10         |2025-10-14 11:18:47|179.95       |\n",
      "|10         |2025-10-14 11:18:47|199.94       |\n",
      "|10         |2025-10-14 11:18:47|259.93       |\n",
      "|10         |2025-10-14 11:18:47|319.92       |\n",
      "|11         |2025-10-16 09:11:34|34.99        |\n",
      "|11         |2025-10-16 09:11:34|69.98        |\n",
      "|11         |2025-10-16 09:11:34|159.96       |\n",
      "|11         |2025-10-16 09:11:34|249.94       |\n",
      "|11         |2025-10-16 09:11:34|284.93       |\n",
      "|11         |2025-10-16 09:11:34|319.92       |\n",
      "|11         |2025-10-16 09:11:34|409.9        |\n",
      "|11         |2025-10-16 09:11:34|499.88       |\n",
      "|12         |2025-10-03 10:58:05|249.99       |\n",
      "|12         |2025-10-03 10:58:05|499.98       |\n",
      "|12         |2025-10-03 10:58:05|599.96       |\n",
      "|12         |2025-10-03 10:58:05|699.94       |\n",
      "|12         |2025-10-03 10:58:05|949.93       |\n",
      "|12         |2025-10-03 10:58:05|1199.92      |\n",
      "|12         |2025-10-03 10:58:05|1299.9       |\n",
      "|12         |2025-10-03 10:58:05|1399.88      |\n",
      "|13         |2025-10-17 20:47:18|79.99        |\n",
      "|13         |2025-10-17 20:47:18|159.98       |\n",
      "|13         |2025-10-17 20:47:18|279.95       |\n",
      "|13         |2025-10-17 20:47:18|399.92       |\n",
      "+-----------+-------------------+-------------+\n",
      "only showing top 100 rows\n",
      "\n"
     ]
    }
   ],
   "source": [
    "spark.sql(\"\"\"\n",
    "SELECT\n",
    "    o.customer_id,\n",
    "    o.timestamp,\n",
    "    ROUND(SUM(oi.quantity * p.price)\n",
    "          OVER (PARTITION BY o.customer_id ORDER BY o.timestamp\n",
    "                ROWS BETWEEN UNBOUNDED PRECEDING AND CURRENT ROW), 2) AS running_total\n",
    "FROM ice.demo.orders o\n",
    "JOIN ice.demo.order_items oi ON o.id = oi.order_id\n",
    "JOIN ice.demo.products p ON oi.product_id = p.product_id\n",
    "ORDER BY o.customer_id, o.timestamp\n",
    "\"\"\").show(100, truncate=False)"
   ]
  },
  {
   "cell_type": "markdown",
   "id": "633b60a9-a59a-436a-9955-dc08159d303a",
   "metadata": {},
   "source": [
    "### `RANK` and `WITH`\n",
    "\n",
    "Using `RANK` to show top customers, we are also using `WITH` to define one query, and then using that query in another query. Here we are getting the top ranked order per customer."
   ]
  },
  {
   "cell_type": "code",
   "execution_count": 33,
   "id": "0b971791-9a98-4377-af90-695a008d668c",
   "metadata": {},
   "outputs": [
    {
     "name": "stdout",
     "output_type": "stream",
     "text": [
      "+-----------+------------------------------------+-----------+---+\n",
      "|customer_id|order_id                            |order_total|rnk|\n",
      "+-----------+------------------------------------+-----------+---+\n",
      "|1          |adbc34fb-f7d7-42ef-8e09-2c8658adca6f|1679.84    |1  |\n",
      "|2          |2df2f3f4-c20c-47da-bd4f-7135cb7b8b9b|399.88     |1  |\n",
      "|3          |3f06bb49-b6cd-4a3b-8f74-2e1f8ebf27a5|519.88     |1  |\n",
      "|4          |9dc64a8e-cb1a-4b3b-a303-31bcd9e127f9|599.92     |1  |\n",
      "|5          |32ed0e61-0287-4a68-8103-01fc23592c62|719.88     |1  |\n",
      "|6          |ea8a2722-25b3-4b74-a02d-76c6ac960b8b|839.88     |1  |\n",
      "|7          |52d2ce38-3fc1-4a41-bcf1-c82829c68729|819.84     |1  |\n",
      "|8          |61b24c9a-4f2e-4b3a-bf53-236e305a6a80|959.88     |1  |\n",
      "|9          |a6630e05-21b2-4b92-940f-9f03dcb4a8c1|879.88     |1  |\n",
      "|10         |40a1e68b-2682-4b7e-88d9-71c6a004bf2b|319.92     |1  |\n",
      "|11         |9df8ce5c-10aa-4f45-9f9c-f4a64dc17616|499.88     |1  |\n",
      "|12         |36d8d5cf-b6c3-4c1a-a9b7-14dc9f8249b5|1399.88    |1  |\n",
      "|13         |7e5ed4b7-0534-4639-aeba-2f61b9df253a|799.84     |1  |\n",
      "|14         |4a154b76-0196-45c3-a5aa-0bdb9cbeb418|1739.92    |1  |\n",
      "|15         |b12e2c4a-4ff3-46a3-9f92-b6e04b65121a|1119.88    |1  |\n",
      "|16         |7b4d8bfc-cd4b-4424-9ac8-dc34f47de8a9|339.92     |1  |\n",
      "|17         |f71e8cf8-2a64-469d-80de-d4b295b7a249|919.88     |1  |\n",
      "|19         |77d308ad-3431-4b6a-bae1-15bfa2760e74|739.92     |1  |\n",
      "|21         |c9c4b25b-d2a3-48a5-b2cc-78a435b3a7a0|1779.92    |1  |\n",
      "|22         |82e2e705-7ee2-4da9-a3f8-b2042b38edac|579.88     |1  |\n",
      "+-----------+------------------------------------+-----------+---+\n",
      "\n"
     ]
    }
   ],
   "source": [
    "spark.sql(\"\"\"\n",
    "WITH order_totals AS (\n",
    "  SELECT\n",
    "      o.customer_id,\n",
    "      o.id AS order_id,\n",
    "      SUM(oi.quantity * p.price) AS order_total\n",
    "  FROM ice.demo.orders o\n",
    "  JOIN ice.demo.order_items oi ON o.id = oi.order_id\n",
    "  JOIN ice.demo.products p ON oi.product_id = p.product_id\n",
    "  GROUP BY o.customer_id, o.id\n",
    "),\n",
    "ranked AS (\n",
    "  SELECT\n",
    "      customer_id,\n",
    "      order_id,\n",
    "      ROUND(order_total, 2) AS order_total,\n",
    "      RANK() OVER (\n",
    "        PARTITION BY customer_id\n",
    "        ORDER BY order_total DESC\n",
    "      ) AS rnk\n",
    "  FROM order_totals\n",
    ")\n",
    "SELECT customer_id, order_id, order_total, rnk\n",
    "FROM ranked\n",
    "WHERE rnk <= 3\n",
    "ORDER BY customer_id, rnk, order_total DESC\n",
    "\"\"\").show(truncate=False)"
   ]
  },
  {
   "cell_type": "markdown",
   "id": "e7fd796c-9c88-46dc-b3d4-92ebf0deb99f",
   "metadata": {},
   "source": [
    "## Generating New Insights\n",
    "\n",
    "Which customers haven't returned in 90 days, this provides data to generate new events again perhaps to market to old customers who haven't returned."
   ]
  },
  {
   "cell_type": "code",
   "execution_count": 34,
   "id": "cf750fac-95ca-42ac-94fa-a29566e2e2fe",
   "metadata": {},
   "outputs": [
    {
     "name": "stdout",
     "output_type": "stream",
     "text": [
      "+-----------------+\n",
      "|churned_customers|\n",
      "+-----------------+\n",
      "|                0|\n",
      "+-----------------+\n",
      "\n"
     ]
    }
   ],
   "source": [
    "spark.sql(\"\"\"\n",
    "WITH last_order AS (\n",
    "  SELECT\n",
    "      customer_id,\n",
    "      MAX(timestamp) AS last_purchase\n",
    "  FROM ice.demo.orders\n",
    "  GROUP BY customer_id\n",
    ")\n",
    "SELECT\n",
    "    COUNT(*) AS churned_customers\n",
    "FROM last_order\n",
    "WHERE last_purchase < date_sub(current_date(), 90);\"\"\").show()"
   ]
  },
  {
   "cell_type": "code",
   "execution_count": 36,
   "id": "dc4ca027-05ab-432e-b24d-4940840ff73b",
   "metadata": {},
   "outputs": [],
   "source": [
    "spark.stop()"
   ]
  }
 ],
 "metadata": {
  "kernelspec": {
   "display_name": "Python 3 (ipykernel)",
   "language": "python",
   "name": "python3"
  },
  "language_info": {
   "codemirror_mode": {
    "name": "ipython",
    "version": 3
   },
   "file_extension": ".py",
   "mimetype": "text/x-python",
   "name": "python",
   "nbconvert_exporter": "python",
   "pygments_lexer": "ipython3",
   "version": "3.11.10"
  }
 },
 "nbformat": 4,
 "nbformat_minor": 5
}
