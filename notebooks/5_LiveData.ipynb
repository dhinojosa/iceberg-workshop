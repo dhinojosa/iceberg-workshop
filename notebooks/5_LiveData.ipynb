{
 "cells": [
  {
   "cell_type": "markdown",
   "id": "c56119d8-fd30-4ece-80db-a51a17561949",
   "metadata": {},
   "source": [
    "# Loading Live Data into Apache Iceberg"
   ]
  },
  {
   "cell_type": "code",
   "execution_count": 27,
   "id": "d2a0218c-bcba-4bf3-bd55-0909ba6ffbcc",
   "metadata": {},
   "outputs": [],
   "source": [
    "from pyspark.sql import SparkSession\n",
    "import os"
   ]
  },
  {
   "cell_type": "code",
   "execution_count": 28,
   "id": "f086b397-6223-40a6-9634-cb9e0a0ab489",
   "metadata": {},
   "outputs": [],
   "source": [
    "spark = (\n",
    "    SparkSession.builder\n",
    "    .appName(\"Live Data Loading in Iceberg\")\n",
    "    .master(\"spark://spark:7077\") \n",
    "    .getOrCreate()\n",
    ")"
   ]
  },
  {
   "cell_type": "code",
   "execution_count": 3,
   "id": "4c0d9f41-8123-4b27-acee-1dfd2b825fb5",
   "metadata": {},
   "outputs": [
    {
     "name": "stdout",
     "output_type": "stream",
     "text": [
      "spark://spark:7077\n",
      "http://c820f10354d4:4040\n"
     ]
    }
   ],
   "source": [
    "print(spark.sparkContext.master) # should be spark://spark:7077\n",
    "print(spark.sparkContext.uiWebUrl) # link to the app UI"
   ]
  },
  {
   "cell_type": "code",
   "execution_count": 29,
   "id": "4674e492-b3cb-4d23-b247-776c31650319",
   "metadata": {
    "scrolled": true
   },
   "outputs": [
    {
     "name": "stdout",
     "output_type": "stream",
     "text": [
      "+---------+\n",
      "|namespace|\n",
      "+---------+\n",
      "|demo     |\n",
      "+---------+\n",
      "\n"
     ]
    }
   ],
   "source": [
    "spark.sql(\"SHOW NAMESPACES IN ice\").show(truncate=False)"
   ]
  },
  {
   "cell_type": "code",
   "execution_count": 30,
   "id": "2e1723a6-8b66-48e3-b530-c206ee0e94ff",
   "metadata": {},
   "outputs": [
    {
     "data": {
      "text/plain": [
       "DataFrame[]"
      ]
     },
     "execution_count": 30,
     "metadata": {},
     "output_type": "execute_result"
    }
   ],
   "source": [
    "spark.sql(\"CREATE NAMESPACE IF NOT EXISTS ice.demo\")"
   ]
  },
  {
   "cell_type": "code",
   "execution_count": 31,
   "id": "4f26b34a-fc51-467d-8ae5-1e3f599748cf",
   "metadata": {},
   "outputs": [
    {
     "name": "stdout",
     "output_type": "stream",
     "text": [
      "+---------+\n",
      "|namespace|\n",
      "+---------+\n",
      "|demo     |\n",
      "+---------+\n",
      "\n"
     ]
    }
   ],
   "source": [
    "spark.sql(\"SHOW NAMESPACES IN ice\").show(truncate=False)"
   ]
  },
  {
   "cell_type": "code",
   "execution_count": 32,
   "id": "df438cfe-0087-4021-a778-5dce1e293c40",
   "metadata": {},
   "outputs": [
    {
     "data": {
      "text/plain": [
       "DataFrame[]"
      ]
     },
     "execution_count": 32,
     "metadata": {},
     "output_type": "execute_result"
    }
   ],
   "source": [
    "spark.sql(\"\"\"\n",
    "    CREATE TABLE IF NOT EXISTS ice.demo.orders (\n",
    "        id STRING,\n",
    "        timestamp TIMESTAMP,\n",
    "        customer_id INT\n",
    "    )\n",
    "    USING iceberg\n",
    "    PARTITIONED BY (days(timestamp))\n",
    "\"\"\")"
   ]
  },
  {
   "cell_type": "code",
   "execution_count": 33,
   "id": "fab0564d-e715-4ad3-9641-a9cf83797ab2",
   "metadata": {},
   "outputs": [
    {
     "data": {
      "text/plain": [
       "DataFrame[]"
      ]
     },
     "execution_count": 33,
     "metadata": {},
     "output_type": "execute_result"
    }
   ],
   "source": [
    "spark.sql(\"\"\"\n",
    "    CREATE TABLE IF NOT EXISTS ice.demo.order_items (\n",
    "       id STRING,\n",
    "       order_id STRING,\n",
    "       product_id INT,\n",
    "       quantity INT\n",
    "     )\n",
    "     USING iceberg\n",
    "    \"\"\")"
   ]
  },
  {
   "cell_type": "code",
   "execution_count": 36,
   "id": "156b78e2-cd87-468a-8389-ec1d6462cdf0",
   "metadata": {},
   "outputs": [
    {
     "data": {
      "text/plain": [
       "DataFrame[]"
      ]
     },
     "execution_count": 36,
     "metadata": {},
     "output_type": "execute_result"
    }
   ],
   "source": [
    "spark.sql(\"\"\"\n",
    "CREATE TABLE ice.demo.products (\n",
    "    product_id INT,\n",
    "    name STRING,\n",
    "    description STRING,\n",
    "    price DOUBLE\n",
    ")\n",
    "USING iceberg\n",
    "\"\"\")"
   ]
  },
  {
   "cell_type": "markdown",
   "id": "c6619173-ecea-42ed-82db-218d5692d486",
   "metadata": {},
   "source": [
    "At this point, be sure to run Kafka so that we can have live data happening"
   ]
  },
  {
   "cell_type": "markdown",
   "id": "0e27a331-594c-45b2-a612-2df1a8695a98",
   "metadata": {},
   "source": [
    "Except here, we are going to create tons of fake data to simulate the live loading"
   ]
  },
  {
   "cell_type": "code",
   "execution_count": 37,
   "id": "b169f300-5138-4db3-946e-986d31ae44e0",
   "metadata": {},
   "outputs": [
    {
     "data": {
      "text/plain": [
       "DataFrame[]"
      ]
     },
     "execution_count": 37,
     "metadata": {},
     "output_type": "execute_result"
    }
   ],
   "source": [
    "spark.sql(\"\"\"\n",
    "    INSERT INTO ice.demo.products VALUES\n",
    "        (1, 'Wireless Mouse', 'Ergonomic 2.4GHz wireless mouse with USB receiver', 24.99),\n",
    "        (2, 'Mechanical Keyboard', 'RGB backlit mechanical keyboard with blue switches', 79.99),\n",
    "        (3, 'USB-C Hub', '6-in-1 USB-C hub with HDMI, SD card, and Ethernet ports', 39.99),\n",
    "        (4, 'Noise-Cancelling Headphones', 'Over-ear Bluetooth headphones with active noise cancellation', 129.99),\n",
    "        (5, 'Webcam HD', '1080p USB webcam with built-in microphone', 49.99),\n",
    "        (6, 'Gaming Monitor', '27-inch 144Hz 2K gaming monitor with HDR support', 299.99),\n",
    "        (7, 'Laptop Stand', 'Adjustable aluminum laptop stand with cooling vents', 34.99),\n",
    "        (8, 'Portable SSD', '1TB USB 3.2 portable solid-state drive', 119.99),\n",
    "        (9, 'Smartphone Tripod', 'Flexible tripod with Bluetooth remote control', 19.99),\n",
    "        (10, 'Wireless Charger', 'Fast-charging Qi wireless pad for smartphones', 29.99),\n",
    "        (11, 'Coffee Maker', '12-cup programmable coffee maker with timer', 59.99),\n",
    "        (12, 'Electric Kettle', '1.7L stainless steel electric kettle with auto shut-off', 44.99),\n",
    "        (13, 'Standing Desk', 'Adjustable height standing desk with memory presets', 399.99),\n",
    "        (14, 'Office Chair', 'Ergonomic office chair with lumbar support and mesh back', 249.99),\n",
    "        (15, 'LED Desk Lamp', 'Dimmable LED desk lamp with USB charging port', 39.99),\n",
    "        (16, 'Cookware Set', '10-piece nonstick cookware set with glass lids', 129.99),\n",
    "        (17, 'Chef Knife', '8-inch stainless steel professional chef knife', 59.99),\n",
    "        (18, 'Running Shoes', 'Lightweight breathable running shoes, size 10', 89.99),\n",
    "        (19, 'Yoga Mat', 'Extra thick non-slip yoga mat, 72 x 24 inches', 29.99),\n",
    "        (20, 'Bluetooth Speaker', 'Portable waterproof Bluetooth speaker with deep bass', 79.99),\n",
    "        (21, 'Power Bank', '20,000mAh portable power bank with fast charging', 49.99),\n",
    "        (22, 'Fitness Tracker', 'Smart fitness band with heart rate monitor', 59.99),\n",
    "        (23, 'Smartwatch', 'Bluetooth smartwatch with notifications and health tracking', 149.99),\n",
    "        (24, 'Book: Clean Code', 'A Handbook of Agile Software Craftsmanship by Robert C. Martin', 34.99),\n",
    "        (25, 'Book: Designing Data-Intensive Applications', 'Martin Kleppmann’s guide to scalable and reliable systems', 44.99)\n",
    "\"\"\")"
   ]
  },
  {
   "cell_type": "markdown",
   "id": "f9e760a5-f410-4943-82db-d60fdda46275",
   "metadata": {},
   "source": [
    "Here we will create the tables for order and order_items so that they can populated with the data"
   ]
  },
  {
   "cell_type": "markdown",
   "id": "ba5924b7-3644-4dd2-9d40-5343fae5c47b",
   "metadata": {},
   "source": [
    "At this point, be sure to run Kafka so that we can have live data happening"
   ]
  },
  {
   "cell_type": "markdown",
   "id": "1e3acde5-ed6c-46ae-b88d-0c04df7c9235",
   "metadata": {},
   "source": [
    "Except here, we are going to create tons of fake data to simulate the live loading"
   ]
  },
  {
   "cell_type": "markdown",
   "id": "e1254961-d518-4ff9-84e9-b27653107f34",
   "metadata": {},
   "source": [
    "Here we will determine the number of customers that we have"
   ]
  },
  {
   "cell_type": "code",
   "execution_count": 38,
   "id": "56e72625-4d1c-4da4-8a2b-2d32970403e0",
   "metadata": {},
   "outputs": [
    {
     "name": "stdout",
     "output_type": "stream",
     "text": [
      "+--------+\n",
      "|count(1)|\n",
      "+--------+\n",
      "|      22|\n",
      "+--------+\n",
      "\n"
     ]
    }
   ],
   "source": [
    "spark.sql(\"SELECT count(*) from ice.demo.customers;\").show()"
   ]
  },
  {
   "cell_type": "markdown",
   "id": "fe665efa-cdb1-47cd-a609-c4b8ef91fa18",
   "metadata": {},
   "source": [
    "Now we will load multiple orders and order items (which should come from something like Kafka or a live data load)"
   ]
  },
  {
   "cell_type": "code",
   "execution_count": 39,
   "id": "cdd0a0ee-4770-4485-a503-80fdadca9026",
   "metadata": {},
   "outputs": [
    {
     "data": {
      "text/plain": [
       "DataFrame[]"
      ]
     },
     "execution_count": 39,
     "metadata": {},
     "output_type": "execute_result"
    }
   ],
   "source": [
    "spark.sql(\"\"\"\n",
    "INSERT INTO ice.demo.orders VALUES\n",
    "('3f06bb49-b6cd-4a3b-8f74-2e1f8ebf27a5', timestamp'2025-10-01 09:13:45', 3),\n",
    "('52d2ce38-3fc1-4a41-bcf1-c82829c68729', timestamp'2025-10-02 14:25:30', 7),\n",
    "('b12e2c4a-4ff3-46a3-9f92-b6e04b65121a', timestamp'2025-10-02 16:42:19', 15),\n",
    "('36d8d5cf-b6c3-4c1a-a9b7-14dc9f8249b5', timestamp'2025-10-03 10:58:05', 12),\n",
    "('61b24c9a-4f2e-4b3a-bf53-236e305a6a80', timestamp'2025-10-04 18:03:17', 8),\n",
    "('77d308ad-3431-4b6a-bae1-15bfa2760e74', timestamp'2025-10-05 12:47:11', 19),\n",
    "('2df2f3f4-c20c-47da-bd4f-7135cb7b8b9b', timestamp'2025-10-06 08:24:09', 2),\n",
    "('c9c4b25b-d2a3-48a5-b2cc-78a435b3a7a0', timestamp'2025-10-07 20:12:51', 21),\n",
    "('32ed0e61-0287-4a68-8103-01fc23592c62', timestamp'2025-10-08 09:35:33', 5),\n",
    "('7b4d8bfc-cd4b-4424-9ac8-dc34f47de8a9', timestamp'2025-10-08 17:40:42', 16),\n",
    "('a6630e05-21b2-4b92-940f-9f03dcb4a8c1', timestamp'2025-10-09 13:10:27', 9),\n",
    "('adbc34fb-f7d7-42ef-8e09-2c8658adca6f', timestamp'2025-10-10 11:55:08', 1),\n",
    "('9dc64a8e-cb1a-4b3b-a303-31bcd9e127f9', timestamp'2025-10-10 16:21:55', 4),\n",
    "('f71e8cf8-2a64-469d-80de-d4b295b7a249', timestamp'2025-10-11 19:44:03', 17),\n",
    "('82e2e705-7ee2-4da9-a3f8-b2042b38edac', timestamp'2025-10-12 08:31:59', 22),\n",
    "('4a154b76-0196-45c3-a5aa-0bdb9cbeb418', timestamp'2025-10-13 15:07:23', 14),\n",
    "('40a1e68b-2682-4b7e-88d9-71c6a004bf2b', timestamp'2025-10-14 11:18:47', 10),\n",
    "('ea8a2722-25b3-4b74-a02d-76c6ac960b8b', timestamp'2025-10-15 13:59:41', 6),\n",
    "('9df8ce5c-10aa-4f45-9f9c-f4a64dc17616', timestamp'2025-10-16 09:11:34', 11),\n",
    "('7e5ed4b7-0534-4639-aeba-2f61b9df253a', timestamp'2025-10-17 20:47:18', 13)\n",
    "\"\"\")"
   ]
  },
  {
   "cell_type": "code",
   "execution_count": 40,
   "id": "92294824-31a2-48ea-b470-7f7918b0bbb6",
   "metadata": {},
   "outputs": [
    {
     "data": {
      "text/plain": [
       "DataFrame[]"
      ]
     },
     "execution_count": 40,
     "metadata": {},
     "output_type": "execute_result"
    }
   ],
   "source": [
    "spark.sql(\"\"\"\n",
    "INSERT INTO ice.demo.order_items VALUES\n",
    "('b3f8c9b6-9f2f-4c3e-9b38-8d3e2f6c1a01', '3f06bb49-b6cd-4a3b-8f74-2e1f8ebf27a5', 3, 2),\n",
    "('1d2b7a8e-7b6a-4f7a-9a3c-5d6c2b1a9f02', '3f06bb49-b6cd-4a3b-8f74-2e1f8ebf27a5', 5, 1),\n",
    "('c0a1b2c3-d4e5-46f7-98a1-b2c3d4e5f603', '52d2ce38-3fc1-4a41-bcf1-c82829c68729', 1, 3),\n",
    "('4e5f6a7b-8c9d-4a1b-b2c3-d4e5f6a7b804', '52d2ce38-3fc1-4a41-bcf1-c82829c68729', 4, 1),\n",
    "('5a6b7c8d-9e0f-4a1b-92c3-d4e5f6a7b905', 'b12e2c4a-4ff3-46a3-9f92-b6e04b65121a', 2, 2),\n",
    "('6b7c8d9e-0f1a-41b2-93c4-d5e6f7a8ba06', 'b12e2c4a-4ff3-46a3-9f92-b6e04b65121a', 8, 1),\n",
    "('7c8d9e0f-1a2b-42c3-94d5-e6f7a8b9cb07', '36d8d5cf-b6c3-4c1a-a9b7-14dc9f8249b5', 14, 1),\n",
    "('8d9e0f1a-2b3c-43d4-95e6-f7a8b9c0dc08', '36d8d5cf-b6c3-4c1a-a9b7-14dc9f8249b5', 21, 2),\n",
    "('9e0f1a2b-3c4d-44e5-96f7-a8b9c0d1ed09', '61b24c9a-4f2e-4b3a-bf53-236e305a6a80', 17, 1),\n",
    "('0f1a2b3c-4d5e-45f6-97a8-b9c0d1e2fe10', '61b24c9a-4f2e-4b3a-bf53-236e305a6a80', 18, 2),\n",
    "('1a2b3c4d-5e6f-46a7-98b9-c0d1e2f3a011', '77d308ad-3431-4b6a-bae1-15bfa2760e74', 23, 1),\n",
    "('2b3c4d5e-6f70-47b8-09c1-d1e2f3a4b112', '77d308ad-3431-4b6a-bae1-15bfa2760e74', 24, 1),\n",
    "('3c4d5e6f-7081-48c9-10d2-e2f3a4b5c213', '2df2f3f4-c20c-47da-bd4f-7135cb7b8b9b', 7, 2),\n",
    "('4d5e6f70-8192-49da-21e3-f3a4b5c6d314', '2df2f3f4-c20c-47da-bd4f-7135cb7b8b9b', 10, 1),\n",
    "('5e6f7081-92a3-4aeb-32f4-0a4b5c6d7e15', 'c9c4b25b-d2a3-48a5-b2cc-78a435b3a7a0', 12, 1),\n",
    "('6f708192-a3b4-4bfc-43a5-1b5c6d7e8f16', 'c9c4b25b-d2a3-48a5-b2cc-78a435b3a7a0', 13, 1),\n",
    "('708192a3-b4c5-4c0d-54b6-2c6d7e8f9017', '32ed0e61-0287-4a68-8103-01fc23592c62', 9, 1),\n",
    "('8192a3b4-c5d6-4d1e-65c7-3d7e8f901128', '32ed0e61-0287-4a68-8103-01fc23592c62', 20, 2),\n",
    "('92a3b4c5-d6e7-4e2f-76d8-4e8f90112229', '7b4d8bfc-cd4b-4424-9ac8-dc34f47de8a9', 15, 1),\n",
    "('a3b4c5d6-e7f8-4f30-87e9-5f9011222330', '7b4d8bfc-cd4b-4424-9ac8-dc34f47de8a9', 25, 1),\n",
    "('b4c5d6e7-f809-4031-98fa-601122334431', 'a6630e05-21b2-4b92-940f-9f03dcb4a8c1', 11, 1),\n",
    "('c5d6e7f8-091a-4132-a90b-711223344532', 'a6630e05-21b2-4b92-940f-9f03dcb4a8c1', 2, 2),\n",
    "('d6e7f809-1a2b-4233-ba1c-821234455633', 'adbc34fb-f7d7-42ef-8e09-2c8658adca6f', 6, 1),\n",
    "('e7f8091a-2b3c-4334-cb2d-931345566734', 'adbc34fb-f7d7-42ef-8e09-2c8658adca6f', 3, 3),\n",
    "('f8091a2b-3c4d-4435-dc3e-a41455667835', '9dc64a8e-cb1a-4b3b-a303-31bcd9e127f9', 8, 1),\n",
    "('091a2b3c-4d5e-4536-ed4f-b51556678936', '9dc64a8e-cb1a-4b3b-a303-31bcd9e127f9', 19, 1),\n",
    "('1a2b3c4d-5e6f-4637-fe50-c61666789a37', 'f71e8cf8-2a64-469d-80de-d4b295b7a249', 4, 1),\n",
    "('2b3c4d5e-6f70-4738-0f61-d7176789ab38', 'f71e8cf8-2a64-469d-80de-d4b295b7a249', 5, 2),\n",
    "('3c4d5e6f-7081-4839-1072-e818789abc39', '82e2e705-7ee2-4da9-a3f8-b2042b38edac', 1, 1),\n",
    "('4d5e6f70-8192-493a-2183-f91989abcc40', '82e2e705-7ee2-4da9-a3f8-b2042b38edac', 22, 2),\n",
    "('5e6f7081-92a3-4a3b-3294-0a1a9abccd41', '4a154b76-0196-45c3-a5aa-0bdb9cbeb418', 13, 1),\n",
    "('6f708192-a3b4-4b3c-43a5-1b2babcdd042', '4a154b76-0196-45c3-a5aa-0bdb9cbeb418', 7, 1),\n",
    "('708192a3-b4c5-4c3d-54b6-2c3ccddeef43', '40a1e68b-2682-4b7e-88d9-71c6a004bf2b', 9, 1),\n",
    "('8192a3b4-c5d6-4d3e-65c7-3d4dddeef044', '40a1e68b-2682-4b7e-88d9-71c6a004bf2b', 17, 1),\n",
    "('92a3b4c5-d6e7-4e3f-76d8-4e5eee0ff145', 'ea8a2722-25b3-4b74-a02d-76c6ac960b8b', 18, 2),\n",
    "('a3b4c5d6-e7f8-4f40-87e9-5f6ff01a0246', 'ea8a2722-25b3-4b74-a02d-76c6ac960b8b', 10, 1),\n",
    "('b4c5d6e7-f809-4041-98fa-607001ab1347', '9df8ce5c-10aa-4f45-9f9c-f4a64dc17616', 24, 1),\n",
    "('c5d6e7f8-091a-4142-a90b-718112bc2448', '9df8ce5c-10aa-4f45-9f9c-f4a64dc17616', 25, 2),\n",
    "('d6e7f809-1a2b-4243-ba1c-829223cd3549', '7e5ed4b7-0534-4639-aeba-2f61b9df253a', 20, 1),\n",
    "('e7f8091a-2b3c-4344-cb2d-93a334de4650', '7e5ed4b7-0534-4639-aeba-2f61b9df253a', 15, 3)\n",
    "\"\"\")"
   ]
  },
  {
   "cell_type": "code",
   "execution_count": 41,
   "id": "dd0f93a2-99ac-49b2-b3d0-df5f821c14f6",
   "metadata": {},
   "outputs": [
    {
     "name": "stdout",
     "output_type": "stream",
     "text": [
      "+--------------------+-------------------+-----------+\n",
      "|                  id|          timestamp|customer_id|\n",
      "+--------------------+-------------------+-----------+\n",
      "|36d8d5cf-b6c3-4c1...|2025-10-03 10:58:05|         12|\n",
      "|61b24c9a-4f2e-4b3...|2025-10-04 18:03:17|          8|\n",
      "|3f06bb49-b6cd-4a3...|2025-10-01 09:13:45|          3|\n",
      "|52d2ce38-3fc1-4a4...|2025-10-02 14:25:30|          7|\n",
      "|b12e2c4a-4ff3-46a...|2025-10-02 16:42:19|         15|\n",
      "|c9c4b25b-d2a3-48a...|2025-10-07 20:12:51|         21|\n",
      "|32ed0e61-0287-4a6...|2025-10-08 09:35:33|          5|\n",
      "|7b4d8bfc-cd4b-442...|2025-10-08 17:40:42|         16|\n",
      "|77d308ad-3431-4b6...|2025-10-05 12:47:11|         19|\n",
      "|2df2f3f4-c20c-47d...|2025-10-06 08:24:09|          2|\n",
      "|f71e8cf8-2a64-469...|2025-10-11 19:44:03|         17|\n",
      "|82e2e705-7ee2-4da...|2025-10-12 08:31:59|         22|\n",
      "|a6630e05-21b2-4b9...|2025-10-09 13:10:27|          9|\n",
      "|adbc34fb-f7d7-42e...|2025-10-10 11:55:08|          1|\n",
      "|9dc64a8e-cb1a-4b3...|2025-10-10 16:21:55|          4|\n",
      "|ea8a2722-25b3-4b7...|2025-10-15 13:59:41|          6|\n",
      "|9df8ce5c-10aa-4f4...|2025-10-16 09:11:34|         11|\n",
      "|4a154b76-0196-45c...|2025-10-13 15:07:23|         14|\n",
      "|40a1e68b-2682-4b7...|2025-10-14 11:18:47|         10|\n",
      "|7e5ed4b7-0534-463...|2025-10-17 20:47:18|         13|\n",
      "+--------------------+-------------------+-----------+\n",
      "only showing top 20 rows\n",
      "\n"
     ]
    }
   ],
   "source": [
    "spark.sql(\"\"\"Select * from ice.demo.orders;\"\"\").show()"
   ]
  },
  {
   "cell_type": "markdown",
   "id": "ee6d46af-feb1-47dd-b279-049c3207076c",
   "metadata": {},
   "source": [
    "Verify that all orders have order items"
   ]
  },
  {
   "cell_type": "code",
   "execution_count": 42,
   "id": "771e979b-df35-434e-baed-9bf57bf3cbfb",
   "metadata": {},
   "outputs": [
    {
     "name": "stdout",
     "output_type": "stream",
     "text": [
      "+------------------+\n",
      "|missing_order_refs|\n",
      "+------------------+\n",
      "|                 0|\n",
      "+------------------+\n",
      "\n"
     ]
    }
   ],
   "source": [
    "spark.sql(\"\"\"\n",
    "SELECT COUNT(*) AS missing_order_refs\n",
    "FROM ice.demo.order_items oi\n",
    "LEFT JOIN ice.demo.orders o\n",
    "ON oi.order_id = o.id\n",
    "WHERE o.id IS NULL\n",
    "\"\"\").show()"
   ]
  },
  {
   "cell_type": "markdown",
   "id": "9668ba37-8464-4198-b193-e2cacab206a3",
   "metadata": {},
   "source": [
    "Verify that all products are valid"
   ]
  },
  {
   "cell_type": "code",
   "execution_count": 43,
   "id": "03e4af0c-a6dd-49ba-887e-38e2ad359fcd",
   "metadata": {},
   "outputs": [
    {
     "name": "stdout",
     "output_type": "stream",
     "text": [
      "+--------------------+\n",
      "|invalid_product_refs|\n",
      "+--------------------+\n",
      "|                   0|\n",
      "+--------------------+\n",
      "\n"
     ]
    }
   ],
   "source": [
    "spark.sql(\"\"\"\n",
    "SELECT COUNT(*) AS invalid_product_refs\n",
    "FROM ice.demo.order_items\n",
    "WHERE product_id < 1 OR product_id > 25\n",
    "\"\"\").show()"
   ]
  },
  {
   "cell_type": "markdown",
   "id": "741a3c08-7d3c-4177-8a66-c09d6c4bb263",
   "metadata": {},
   "source": [
    "Verify that all customers are invalid"
   ]
  },
  {
   "cell_type": "code",
   "execution_count": 44,
   "id": "b1ee4eea-efaf-413c-a390-713a13cd8a10",
   "metadata": {},
   "outputs": [
    {
     "name": "stdout",
     "output_type": "stream",
     "text": [
      "+---------------------+\n",
      "|invalid_customer_refs|\n",
      "+---------------------+\n",
      "|                    0|\n",
      "+---------------------+\n",
      "\n"
     ]
    }
   ],
   "source": [
    "spark.sql(\"\"\"\n",
    "SELECT COUNT(*) AS invalid_customer_refs\n",
    "FROM ice.demo.orders\n",
    "WHERE customer_id < 1 OR customer_id > 22\n",
    "\"\"\").show()"
   ]
  },
  {
   "cell_type": "markdown",
   "id": "5c510bac-6a4d-404b-8d5f-1470c15be945",
   "metadata": {},
   "source": [
    "Verify that every order has an order item"
   ]
  },
  {
   "cell_type": "code",
   "execution_count": 45,
   "id": "81b078de-4dc7-436f-8494-98a7717af8e1",
   "metadata": {},
   "outputs": [
    {
     "name": "stdout",
     "output_type": "stream",
     "text": [
      "+--------------------+\n",
      "|orders_without_items|\n",
      "+--------------------+\n",
      "|                   0|\n",
      "+--------------------+\n",
      "\n"
     ]
    }
   ],
   "source": [
    "spark.sql(\"\"\"\n",
    "SELECT COUNT(*) AS orders_without_items\n",
    "FROM ice.demo.orders o\n",
    "LEFT JOIN ice.demo.order_items oi\n",
    "ON o.id = oi.order_id\n",
    "WHERE oi.id IS NULL\n",
    "\"\"\").show()"
   ]
  },
  {
   "cell_type": "code",
   "execution_count": 47,
   "id": "dc4ca027-05ab-432e-b24d-4940840ff73b",
   "metadata": {},
   "outputs": [],
   "source": [
    "spark.stop()"
   ]
  }
 ],
 "metadata": {
  "kernelspec": {
   "display_name": "Python 3 (ipykernel)",
   "language": "python",
   "name": "python3"
  },
  "language_info": {
   "codemirror_mode": {
    "name": "ipython",
    "version": 3
   },
   "file_extension": ".py",
   "mimetype": "text/x-python",
   "name": "python",
   "nbconvert_exporter": "python",
   "pygments_lexer": "ipython3",
   "version": "3.11.10"
  }
 },
 "nbformat": 4,
 "nbformat_minor": 5
}
