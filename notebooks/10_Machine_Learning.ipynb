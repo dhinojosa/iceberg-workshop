{
 "cells": [
  {
   "cell_type": "markdown",
   "id": "c56119d8-fd30-4ece-80db-a51a17561949",
   "metadata": {},
   "source": [
    "# Machine Learning in Apache Iceberg"
   ]
  },
  {
   "cell_type": "code",
   "execution_count": 1,
   "id": "d2a0218c-bcba-4bf3-bd55-0909ba6ffbcc",
   "metadata": {},
   "outputs": [],
   "source": [
    "from pyspark.sql import SparkSession\n",
    "import os"
   ]
  },
  {
   "cell_type": "code",
   "execution_count": 2,
   "id": "f086b397-6223-40a6-9634-cb9e0a0ab489",
   "metadata": {},
   "outputs": [],
   "source": [
    "spark = (\n",
    "    SparkSession.builder\n",
    "    .appName(\"Machine Learning in Iceberg\")\n",
    "    .master(\"spark://spark:7077\") \n",
    "    .getOrCreate()\n",
    ")"
   ]
  },
  {
   "cell_type": "markdown",
   "id": "ae3ee4f1-4a33-427a-b4ee-553f79dc701a",
   "metadata": {},
   "source": [
    "First, we gather the features used to determine what spending category they will likely be in based on the data"
   ]
  },
  {
   "cell_type": "code",
   "execution_count": 3,
   "id": "7435cb9d-e209-45ac-a755-6c0014c1846d",
   "metadata": {},
   "outputs": [],
   "source": [
    "features_df = spark.sql(\"\"\"\n",
    "SELECT\n",
    "    o.customer_id,\n",
    "    COUNT(DISTINCT o.id) AS total_orders,\n",
    "    COUNT(DISTINCT oi.product_id) AS unique_products,\n",
    "    SUM(oi.quantity) AS total_items,\n",
    "    ROUND(SUM(oi.quantity * p.price), 2) AS total_spent\n",
    "FROM ice.demo.orders o\n",
    "JOIN ice.demo.order_items oi ON o.id = oi.order_id\n",
    "JOIN ice.demo.products p ON oi.product_id = p.product_id\n",
    "GROUP BY o.customer_id\n",
    "\"\"\")"
   ]
  },
  {
   "cell_type": "markdown",
   "id": "4eb17555-b07e-46ab-a702-b8918e4b7a77",
   "metadata": {},
   "source": [
    "Next, we convert it into panel data so that we can use this notebook platform"
   ]
  },
  {
   "cell_type": "code",
   "execution_count": 4,
   "id": "eec45f6e-2521-4364-a71e-fae35af8f540",
   "metadata": {},
   "outputs": [
    {
     "data": {
      "text/html": [
       "<div>\n",
       "<style scoped>\n",
       "    .dataframe tbody tr th:only-of-type {\n",
       "        vertical-align: middle;\n",
       "    }\n",
       "\n",
       "    .dataframe tbody tr th {\n",
       "        vertical-align: top;\n",
       "    }\n",
       "\n",
       "    .dataframe thead th {\n",
       "        text-align: right;\n",
       "    }\n",
       "</style>\n",
       "<table border=\"1\" class=\"dataframe\">\n",
       "  <thead>\n",
       "    <tr style=\"text-align: right;\">\n",
       "      <th></th>\n",
       "      <th>customer_id</th>\n",
       "      <th>total_orders</th>\n",
       "      <th>unique_products</th>\n",
       "      <th>total_items</th>\n",
       "      <th>total_spent</th>\n",
       "    </tr>\n",
       "  </thead>\n",
       "  <tbody>\n",
       "    <tr>\n",
       "      <th>0</th>\n",
       "      <td>12</td>\n",
       "      <td>3</td>\n",
       "      <td>5</td>\n",
       "      <td>15</td>\n",
       "      <td>1559.85</td>\n",
       "    </tr>\n",
       "    <tr>\n",
       "      <th>1</th>\n",
       "      <td>22</td>\n",
       "      <td>2</td>\n",
       "      <td>3</td>\n",
       "      <td>13</td>\n",
       "      <td>729.87</td>\n",
       "    </tr>\n",
       "    <tr>\n",
       "      <th>2</th>\n",
       "      <td>1</td>\n",
       "      <td>3</td>\n",
       "      <td>4</td>\n",
       "      <td>18</td>\n",
       "      <td>1859.82</td>\n",
       "    </tr>\n",
       "    <tr>\n",
       "      <th>3</th>\n",
       "      <td>13</td>\n",
       "      <td>3</td>\n",
       "      <td>5</td>\n",
       "      <td>19</td>\n",
       "      <td>914.81</td>\n",
       "    </tr>\n",
       "    <tr>\n",
       "      <th>4</th>\n",
       "      <td>6</td>\n",
       "      <td>3</td>\n",
       "      <td>5</td>\n",
       "      <td>15</td>\n",
       "      <td>1309.85</td>\n",
       "    </tr>\n",
       "  </tbody>\n",
       "</table>\n",
       "</div>"
      ],
      "text/plain": [
       "   customer_id  total_orders  unique_products  total_items  total_spent\n",
       "0           12             3                5           15      1559.85\n",
       "1           22             2                3           13       729.87\n",
       "2            1             3                4           18      1859.82\n",
       "3           13             3                5           19       914.81\n",
       "4            6             3                5           15      1309.85"
      ]
     },
     "execution_count": 4,
     "metadata": {},
     "output_type": "execute_result"
    }
   ],
   "source": [
    "import pandas as pd\n",
    "\n",
    "df = features_df.toPandas()\n",
    "df.head()"
   ]
  },
  {
   "cell_type": "markdown",
   "id": "c2cba6b5-baeb-4a1b-9826-248780e344c4",
   "metadata": {},
   "source": [
    "Here we are applying the target, or spending class"
   ]
  },
  {
   "cell_type": "code",
   "execution_count": 5,
   "id": "9691dd85-40e7-4c0c-ac12-52423ab8e666",
   "metadata": {},
   "outputs": [
    {
     "data": {
      "text/html": [
       "<div>\n",
       "<style scoped>\n",
       "    .dataframe tbody tr th:only-of-type {\n",
       "        vertical-align: middle;\n",
       "    }\n",
       "\n",
       "    .dataframe tbody tr th {\n",
       "        vertical-align: top;\n",
       "    }\n",
       "\n",
       "    .dataframe thead th {\n",
       "        text-align: right;\n",
       "    }\n",
       "</style>\n",
       "<table border=\"1\" class=\"dataframe\">\n",
       "  <thead>\n",
       "    <tr style=\"text-align: right;\">\n",
       "      <th></th>\n",
       "      <th>customer_id</th>\n",
       "      <th>total_orders</th>\n",
       "      <th>unique_products</th>\n",
       "      <th>total_items</th>\n",
       "      <th>total_spent</th>\n",
       "      <th>spend_category</th>\n",
       "    </tr>\n",
       "  </thead>\n",
       "  <tbody>\n",
       "    <tr>\n",
       "      <th>0</th>\n",
       "      <td>12</td>\n",
       "      <td>3</td>\n",
       "      <td>5</td>\n",
       "      <td>15</td>\n",
       "      <td>1559.85</td>\n",
       "      <td>High</td>\n",
       "    </tr>\n",
       "    <tr>\n",
       "      <th>1</th>\n",
       "      <td>22</td>\n",
       "      <td>2</td>\n",
       "      <td>3</td>\n",
       "      <td>13</td>\n",
       "      <td>729.87</td>\n",
       "      <td>Low</td>\n",
       "    </tr>\n",
       "    <tr>\n",
       "      <th>2</th>\n",
       "      <td>1</td>\n",
       "      <td>3</td>\n",
       "      <td>4</td>\n",
       "      <td>18</td>\n",
       "      <td>1859.82</td>\n",
       "      <td>High</td>\n",
       "    </tr>\n",
       "    <tr>\n",
       "      <th>3</th>\n",
       "      <td>13</td>\n",
       "      <td>3</td>\n",
       "      <td>5</td>\n",
       "      <td>19</td>\n",
       "      <td>914.81</td>\n",
       "      <td>Medium</td>\n",
       "    </tr>\n",
       "    <tr>\n",
       "      <th>4</th>\n",
       "      <td>6</td>\n",
       "      <td>3</td>\n",
       "      <td>5</td>\n",
       "      <td>15</td>\n",
       "      <td>1309.85</td>\n",
       "      <td>High</td>\n",
       "    </tr>\n",
       "  </tbody>\n",
       "</table>\n",
       "</div>"
      ],
      "text/plain": [
       "   customer_id  total_orders  unique_products  total_items  total_spent  \\\n",
       "0           12             3                5           15      1559.85   \n",
       "1           22             2                3           13       729.87   \n",
       "2            1             3                4           18      1859.82   \n",
       "3           13             3                5           19       914.81   \n",
       "4            6             3                5           15      1309.85   \n",
       "\n",
       "  spend_category  \n",
       "0           High  \n",
       "1            Low  \n",
       "2           High  \n",
       "3         Medium  \n",
       "4           High  "
      ]
     },
     "execution_count": 5,
     "metadata": {},
     "output_type": "execute_result"
    }
   ],
   "source": [
    "import numpy as np\n",
    "\n",
    "quantiles = df[\"total_spent\"].quantile([0.33, 0.66]).values\n",
    "low, high = quantiles\n",
    "\n",
    "def spending_class(amount):\n",
    "    if amount < low:\n",
    "        return \"Low\"\n",
    "    elif amount < high:\n",
    "        return \"Medium\"\n",
    "    else:\n",
    "        return \"High\"\n",
    "\n",
    "df[\"spend_category\"] = df[\"total_spent\"].apply(spending_class)\n",
    "df.head()"
   ]
  },
  {
   "cell_type": "markdown",
   "id": "128791a2-833e-458e-8d08-045d1afdb1f4",
   "metadata": {},
   "source": [
    "Now we are applying a confusion matrix to see if the classification were indeed what we expected"
   ]
  },
  {
   "cell_type": "code",
   "execution_count": 11,
   "id": "2b994828-ef40-42b1-923a-e6e751e57ca0",
   "metadata": {},
   "outputs": [
    {
     "name": "stdout",
     "output_type": "stream",
     "text": [
      "              precision    recall  f1-score   support\n",
      "\n",
      "        High       0.20      1.00      0.33         1\n",
      "         Low       1.00      0.33      0.50         3\n",
      "      Medium       0.00      0.00      0.00         3\n",
      "\n",
      "    accuracy                           0.29         7\n",
      "   macro avg       0.40      0.44      0.28         7\n",
      "weighted avg       0.46      0.29      0.26         7\n",
      "\n"
     ]
    },
    {
     "data": {
      "image/png": "[encoded data removed]",
      "text/plain": [
       "<Figure size 640x480 with 2 Axes>"
      ]
     },
     "metadata": {},
     "output_type": "display_data"
    }
   ],
   "source": [
    "from sklearn.model_selection import train_test_split\n",
    "from sklearn.ensemble import RandomForestClassifier\n",
    "from sklearn.metrics import classification_report, ConfusionMatrixDisplay\n",
    "\n",
    "X = df[[\"total_orders\", \"unique_products\", \"total_items\"]]\n",
    "y = df[\"spend_category\"]\n",
    "\n",
    "X_train, X_test, y_train, y_test = train_test_split(X, y, test_size=0.3, random_state=42)\n",
    "\n",
    "clf = RandomForestClassifier(n_estimators=100, random_state=42)\n",
    "clf.fit(X_train, y_train)\n",
    "y_pred = clf.predict(X_test)\n",
    "\n",
    "print(classification_report(y_test, y_pred))\n",
    "ConfusionMatrixDisplay.from_estimator(clf, X_test, y_test);"
   ]
  },
  {
   "cell_type": "markdown",
   "id": "74a79f34-b481-492c-b70d-2698de52b68a",
   "metadata": {},
   "source": [
    "Here we are showing the importances of the classification"
   ]
  },
  {
   "cell_type": "code",
   "execution_count": 12,
   "id": "6bbc83f6-acb4-4871-a3f5-9fbe25cd91d1",
   "metadata": {},
   "outputs": [
    {
     "data": {
      "image/png": "[encoded data removed]",
      "text/plain": [
       "<Figure size 640x480 with 1 Axes>"
      ]
     },
     "metadata": {},
     "output_type": "display_data"
    }
   ],
   "source": [
    "import matplotlib.pyplot as plt\n",
    "\n",
    "importances = pd.Series(clf.feature_importances_, index=X.columns)\n",
    "importances.sort_values(ascending=True).plot.barh()\n",
    "plt.title(\"Feature Importance: What Drives Customer Spending Category?\")\n",
    "plt.show();"
   ]
  },
  {
   "cell_type": "markdown",
   "id": "c25cbd96-46be-4fa9-81a1-0df1cadf62a6",
   "metadata": {},
   "source": [
    "Finally, here we are making a prediction"
   ]
  },
  {
   "cell_type": "code",
   "execution_count": 13,
   "id": "8f5f61b6-e793-4bdd-bb64-f094d7ff535e",
   "metadata": {},
   "outputs": [
    {
     "name": "stdout",
     "output_type": "stream",
     "text": [
      "Predicted class: High\n"
     ]
    }
   ],
   "source": [
    "example = pd.DataFrame([[5, 12, 30]], columns=[\"total_orders\", \"unique_products\", \"total_items\"])\n",
    "print(\"Predicted class:\", clf.predict(example)[0])"
   ]
  },
  {
   "cell_type": "code",
   "execution_count": 14,
   "id": "dc4ca027-05ab-432e-b24d-4940840ff73b",
   "metadata": {},
   "outputs": [],
   "source": [
    "spark.stop()"
   ]
  }
 ],
 "metadata": {
  "kernelspec": {
   "display_name": "Python 3 (ipykernel)",
   "language": "python",
   "name": "python3"
  },
  "language_info": {
   "codemirror_mode": {
    "name": "ipython",
    "version": 3
   },
   "file_extension": ".py",
   "mimetype": "text/x-python",
   "name": "python",
   "nbconvert_exporter": "python",
   "pygments_lexer": "ipython3",
   "version": "3.11.10"
  }
 },
 "nbformat": 4,
 "nbformat_minor": 5
}
