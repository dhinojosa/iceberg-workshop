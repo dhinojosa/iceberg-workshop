{
 "cells": [
  {
   "cell_type": "markdown",
   "id": "c56119d8-fd30-4ece-80db-a51a17561949",
   "metadata": {},
   "source": [
    "# Deletes in Apache Iceberg"
   ]
  },
  {
   "cell_type": "code",
   "execution_count": 1,
   "id": "a7dd5dd5-24d4-4b5b-833b-34b50f7c9877",
   "metadata": {},
   "outputs": [],
   "source": [
    "from pyspark.sql import SparkSession\n",
    "import os"
   ]
  },
  {
   "cell_type": "code",
   "execution_count": 2,
   "id": "5b8fdf37-46ed-4bde-a28b-0afe31ada53d",
   "metadata": {},
   "outputs": [],
   "source": [
    "spark = (\n",
    "    SparkSession.builder\n",
    "    .appName(\"Deletes in Iceberg\")\n",
    "    .master(\"spark://spark:7077\") \n",
    "    .getOrCreate()\n",
    ")"
   ]
  },
  {
   "cell_type": "code",
   "execution_count": 3,
   "id": "7dd81256-dd66-4a8b-a781-5bb6ff7ce04a",
   "metadata": {},
   "outputs": [
    {
     "data": {
      "text/plain": [
       "DataFrame[]"
      ]
     },
     "execution_count": 3,
     "metadata": {},
     "output_type": "execute_result"
    }
   ],
   "source": [
    "spark.sql(\"\"\"DELETE FROM ice.demo.customers WHERE name like '%ak%'\"\"\")"
   ]
  },
  {
   "cell_type": "markdown",
   "id": "82db2803-cbc2-4f77-9593-2424c2ad851d",
   "metadata": {},
   "source": [
    "Next let's show the results"
   ]
  },
  {
   "cell_type": "code",
   "execution_count": 4,
   "id": "684a4f10-1781-450a-99ca-35735fbb0fae",
   "metadata": {},
   "outputs": [
    {
     "name": "stdout",
     "output_type": "stream",
     "text": [
      "+---+--------------+--------------------------+-------+\n",
      "|id |name          |email                     |country|\n",
      "+---+--------------+--------------------------+-------+\n",
      "|22 |Zoe King      |zoe.king@example.com      |US     |\n",
      "|21 |Jack Wilson   |jack.wilson@example.com   |US     |\n",
      "|15 |Isabella Rossi|isabella.rossi@example.com|US     |\n",
      "|1  |Alice Smith   |alice@example.com         |US     |\n",
      "|2  |Bob Johnson   |bob@example.com           |US     |\n",
      "|12 |Lucas Martin  |lucas.martin@example.com  |US     |\n",
      "|18 |Henry Scott   |henry.scott@example.com   |US     |\n",
      "|16 |James Nguyen  |james.nguyen@example.com  |US     |\n",
      "|5  |Maya Patel    |maya.patel@example.com    |US     |\n",
      "|7  |Sofia Almeida |sofia.almeida@example.com |US     |\n",
      "|19 |Aria Johnson  |aria.johnson@example.com  |US     |\n",
      "|3  |Carol Adams   |carol@example.com         |US     |\n",
      "|20 |Daniela Costa |daniela.costa@example.com |US     |\n",
      "|4  |Diego Ramirez |diego.ramirez@example.com |US     |\n",
      "|8  |Noah Williams |noah.williams@example.com |US     |\n",
      "|9  |Ava Thompson  |ava.thompson@example.com  |US     |\n",
      "|11 |Olivia Garcia |olivia.garcia@example.com |US     |\n",
      "|13 |Emma Robinson |emma.robinson@example.com |US     |\n",
      "|10 |Ethan Chen    |ethan.chen@example.com    |US     |\n",
      "|6  |Liam O’Connor |liam.oconnor@example.com  |US     |\n",
      "+---+--------------+--------------------------+-------+\n",
      "only showing top 20 rows\n",
      "\n"
     ]
    }
   ],
   "source": [
    "spark.sql(\"\"\"SELECT *\n",
    "FROM ice.demo.customers;\"\"\").show(truncate=False)"
   ]
  },
  {
   "cell_type": "markdown",
   "id": "a9fdc479-317f-4aac-a347-1114534d88af",
   "metadata": {},
   "source": [
    "Let's view the snapshots that have been committed up to this point and we will notice a `delete` operation as part of the snapshot history"
   ]
  },
  {
   "cell_type": "code",
   "execution_count": 5,
   "id": "b718a260-5c80-45d7-b5d7-95b6c8691eba",
   "metadata": {},
   "outputs": [
    {
     "name": "stdout",
     "output_type": "stream",
     "text": [
      "+-------------------+-----------------------+---------+\n",
      "|snapshot_id        |committed_at           |operation|\n",
      "+-------------------+-----------------------+---------+\n",
      "|3524031251713818479|2025-10-27 16:49:02.473|delete   |\n",
      "|6069821547749819533|2025-10-27 16:47:48.751|overwrite|\n",
      "|6233251210790417521|2025-10-27 16:46:37.232|append   |\n",
      "|5355358217514325757|2025-10-27 16:46:30.234|append   |\n",
      "+-------------------+-----------------------+---------+\n",
      "\n"
     ]
    }
   ],
   "source": [
    "spark.sql(\"\"\"SELECT snapshot_id, committed_at, operation\n",
    "FROM ice.demo.customers.snapshots\n",
    "ORDER BY committed_at DESC\n",
    "LIMIT 5;\"\"\").show(truncate=False)"
   ]
  },
  {
   "cell_type": "markdown",
   "id": "62af5dbc-7f94-4d8d-8ddc-3400316d5ee2",
   "metadata": {},
   "source": [
    "Again, let's go back in time, and see if we can see Mila"
   ]
  },
  {
   "cell_type": "code",
   "execution_count": 7,
   "id": "4f40c5b1-8dd6-4761-941d-c544bc200d5a",
   "metadata": {},
   "outputs": [
    {
     "name": "stdout",
     "output_type": "stream",
     "text": [
      "+---+--------------+--------------------------+-------+\n",
      "|id |name          |email                     |country|\n",
      "+---+--------------+--------------------------+-------+\n",
      "|22 |Zoe King      |zoe.king@example.com      |US     |\n",
      "|21 |Jack Wilson   |jack.wilson@example.com   |US     |\n",
      "|15 |Isabella Rossi|isabella.rossi@example.com|US     |\n",
      "|1  |Alice Smith   |alice@example.com         |US     |\n",
      "|2  |Bob Johnson   |bob@example.com           |US     |\n",
      "|12 |Lucas Martin  |lucas.martin@example.com  |US     |\n",
      "|18 |Henry Scott   |henry.scott@example.com   |US     |\n",
      "|16 |James Nguyen  |james.nguyen@example.com  |US     |\n",
      "|5  |Maya Patel    |maya.patel@example.com    |US     |\n",
      "|7  |Sofia Almeida |sofia.almeida@example.com |US     |\n",
      "|19 |Aria Johnson  |aria.johnson@example.com  |US     |\n",
      "|3  |Carol Adams   |carol@example.com         |US     |\n",
      "|20 |Daniela Costa |daniela.costa@example.com |US     |\n",
      "|4  |Diego Ramirez |diego.ramirez@example.com |US     |\n",
      "|17 |Mila Novak    |mila.novak@example.com    |US     |\n",
      "|8  |Noah Williams |noah.williams@example.com |US     |\n",
      "|9  |Ava Thompson  |ava.thompson@example.com  |US     |\n",
      "|11 |Olivia Garcia |olivia.garcia@example.com |US     |\n",
      "|13 |Emma Robinson |emma.robinson@example.com |US     |\n",
      "|10 |Ethan Chen    |ethan.chen@example.com    |US     |\n",
      "+---+--------------+--------------------------+-------+\n",
      "only showing top 20 rows\n",
      "\n"
     ]
    }
   ],
   "source": [
    "spark.sql(\"\"\"SELECT *\n",
    "FROM ice.demo.customers\n",
    "VERSION AS OF '6069821547749819533';\"\"\").show(truncate=False)"
   ]
  },
  {
   "cell_type": "code",
   "execution_count": 8,
   "id": "dc4ca027-05ab-432e-b24d-4940840ff73b",
   "metadata": {},
   "outputs": [],
   "source": [
    "spark.stop()"
   ]
  }
 ],
 "metadata": {
  "kernelspec": {
   "display_name": "Python 3 (ipykernel)",
   "language": "python",
   "name": "python3"
  },
  "language_info": {
   "codemirror_mode": {
    "name": "ipython",
    "version": 3
   },
   "file_extension": ".py",
   "mimetype": "text/x-python",
   "name": "python",
   "nbconvert_exporter": "python",
   "pygments_lexer": "ipython3",
   "version": "3.11.10"
  }
 },
 "nbformat": 4,
 "nbformat_minor": 5
}
