{
 "cells": [
  {
   "cell_type": "markdown",
   "id": "c56119d8-fd30-4ece-80db-a51a17561949",
   "metadata": {},
   "source": [
    "# Materialized Views in Apache Iceberg"
   ]
  },
  {
   "cell_type": "code",
   "execution_count": 1,
   "id": "d2a0218c-bcba-4bf3-bd55-0909ba6ffbcc",
   "metadata": {},
   "outputs": [],
   "source": [
    "from pyspark.sql import SparkSession\n",
    "import os"
   ]
  },
  {
   "cell_type": "code",
   "execution_count": 2,
   "id": "f086b397-6223-40a6-9634-cb9e0a0ab489",
   "metadata": {},
   "outputs": [],
   "source": [
    "spark = (\n",
    "    SparkSession.builder\n",
    "    .appName(\"Materialized Views in Iceberg\")\n",
    "    .master(\"spark://spark:7077\") \n",
    "    .getOrCreate()\n",
    ")"
   ]
  },
  {
   "cell_type": "code",
   "execution_count": 6,
   "id": "e4a6652b-0e6c-4ae2-95fc-202ac94e400e",
   "metadata": {},
   "outputs": [
    {
     "name": "stdout",
     "output_type": "stream",
     "text": [
      "+-------------------+-----------+------------+-------------+\n",
      "|               week|customer_id|total_orders|total_revenue|\n",
      "+-------------------+-----------+------------+-------------+\n",
      "|2025-09-29 00:00:00|          3|           1|       519.88|\n",
      "|2025-09-29 00:00:00|          7|           1|       819.84|\n",
      "|2025-09-29 00:00:00|          8|           1|       959.88|\n",
      "|2025-09-29 00:00:00|         12|           1|      1399.88|\n",
      "|2025-09-29 00:00:00|         15|           1|      1119.88|\n",
      "|2025-09-29 00:00:00|         19|           1|       739.92|\n",
      "|2025-10-06 00:00:00|          1|           1|      1679.84|\n",
      "|2025-10-06 00:00:00|          2|           1|       399.88|\n",
      "|2025-10-06 00:00:00|          4|           1|       599.92|\n",
      "|2025-10-06 00:00:00|          5|           1|       719.88|\n",
      "|2025-10-06 00:00:00|          9|           1|       879.88|\n",
      "|2025-10-06 00:00:00|         16|           1|       339.92|\n",
      "|2025-10-06 00:00:00|         17|           1|       919.88|\n",
      "|2025-10-06 00:00:00|         21|           1|      1779.92|\n",
      "|2025-10-06 00:00:00|         22|           1|       579.88|\n",
      "|2025-10-13 00:00:00|          6|           1|       839.88|\n",
      "|2025-10-13 00:00:00|         10|           1|       319.92|\n",
      "|2025-10-13 00:00:00|         11|           1|       499.88|\n",
      "|2025-10-13 00:00:00|         13|           1|       799.84|\n",
      "|2025-10-13 00:00:00|         14|           1|      1739.92|\n",
      "+-------------------+-----------+------------+-------------+\n",
      "\n"
     ]
    }
   ],
   "source": [
    "spark.sql(\"\"\"SELECT\n",
    "    date_trunc('week', CAST(o.timestamp AS DATE)) AS week,\n",
    "    o.customer_id,\n",
    "    COUNT(DISTINCT o.id) AS total_orders,\n",
    "    ROUND(SUM(oi.quantity * p.price), 2) AS total_revenue\n",
    "FROM ice.demo.orders o\n",
    "JOIN ice.demo.order_items oi ON o.id = oi.order_id\n",
    "JOIN ice.demo.products p ON oi.product_id = p.product_id\n",
    "GROUP BY date_trunc('week', CAST(o.timestamp AS DATE)), o.customer_id\n",
    "ORDER BY week, o.customer_id\"\"\").show()"
   ]
  },
  {
   "cell_type": "code",
   "execution_count": 8,
   "id": "d29c34f0-8cca-4b98-8fc4-cb3015bf35ca",
   "metadata": {},
   "outputs": [
    {
     "name": "stdout",
     "output_type": "stream",
     "text": [
      "+-----------+-----------+------------+--------------------+\n",
      "|customer_id|total_spent|total_orders|       snapshot_time|\n",
      "+-----------+-----------+------------+--------------------+\n",
      "|         12|    1399.88|           1|2025-10-27 20:37:...|\n",
      "|         22|     579.88|           1|2025-10-27 20:37:...|\n",
      "|          1|    1679.84|           1|2025-10-27 20:37:...|\n",
      "|         13|     799.84|           1|2025-10-27 20:37:...|\n",
      "|         16|     339.92|           1|2025-10-27 20:37:...|\n",
      "|          6|     839.88|           1|2025-10-27 20:37:...|\n",
      "|          3|     519.88|           1|2025-10-27 20:37:...|\n",
      "|          5|     719.88|           1|2025-10-27 20:37:...|\n",
      "|         19|     739.92|           1|2025-10-27 20:37:...|\n",
      "|         15|    1119.88|           1|2025-10-27 20:37:...|\n",
      "|         17|     919.88|           1|2025-10-27 20:37:...|\n",
      "|          9|     879.88|           1|2025-10-27 20:37:...|\n",
      "|          4|     599.92|           1|2025-10-27 20:37:...|\n",
      "|          8|     959.88|           1|2025-10-27 20:37:...|\n",
      "|          7|     819.84|           1|2025-10-27 20:37:...|\n",
      "|         10|     319.92|           1|2025-10-27 20:37:...|\n",
      "|         21|    1779.92|           1|2025-10-27 20:37:...|\n",
      "|         11|     499.88|           1|2025-10-27 20:37:...|\n",
      "|         14|    1739.92|           1|2025-10-27 20:37:...|\n",
      "|          2|     399.88|           1|2025-10-27 20:37:...|\n",
      "+-----------+-----------+------------+--------------------+\n",
      "\n"
     ]
    }
   ],
   "source": [
    "spark.sql(\"\"\"\n",
    "SELECT\n",
    "    o.customer_id,\n",
    "    ROUND(SUM(oi.quantity * p.price), 2) AS total_spent,\n",
    "    COUNT(DISTINCT o.id) AS total_orders,\n",
    "    CURRENT_TIMESTAMP() AS snapshot_time\n",
    "FROM ice.demo.orders o\n",
    "JOIN ice.demo.order_items oi ON o.id = oi.order_id\n",
    "JOIN ice.demo.products p ON oi.product_id = p.product_id\n",
    "GROUP BY o.customer_id\n",
    "\"\"\").show()"
   ]
  },
  {
   "cell_type": "code",
   "execution_count": 9,
   "id": "8f4bc5a6-4efb-4b6a-9087-b72d573469ee",
   "metadata": {},
   "outputs": [
    {
     "data": {
      "text/plain": [
       "DataFrame[]"
      ]
     },
     "execution_count": 9,
     "metadata": {},
     "output_type": "execute_result"
    }
   ],
   "source": [
    "spark.sql(\"\"\"\n",
    "CREATE OR REPLACE TABLE ice.demo.customer_spend_summary AS\n",
    "SELECT\n",
    "    o.customer_id,\n",
    "    ROUND(SUM(oi.quantity * p.price), 2) AS total_spent,\n",
    "    COUNT(DISTINCT o.id) AS total_orders,\n",
    "    CURRENT_TIMESTAMP() AS snapshot_time\n",
    "FROM ice.demo.orders o\n",
    "JOIN ice.demo.order_items oi ON o.id = oi.order_id\n",
    "JOIN ice.demo.products p ON oi.product_id = p.product_id\n",
    "GROUP BY o.customer_id\n",
    "\"\"\")"
   ]
  },
  {
   "cell_type": "markdown",
   "id": "98f0fac2-8581-4df5-9f3a-7480f7e8ba03",
   "metadata": {},
   "source": [
    "Let's query the new table made from the multiple joins"
   ]
  },
  {
   "cell_type": "code",
   "execution_count": 10,
   "id": "f3c79e28-d44d-4191-a440-6aff9796659e",
   "metadata": {},
   "outputs": [
    {
     "name": "stdout",
     "output_type": "stream",
     "text": [
      "+-----------+-----------+------------+--------------------+\n",
      "|customer_id|total_spent|total_orders|       snapshot_time|\n",
      "+-----------+-----------+------------+--------------------+\n",
      "|         12|    1399.88|           1|2025-10-27 20:38:...|\n",
      "|         22|     579.88|           1|2025-10-27 20:38:...|\n",
      "|          1|    1679.84|           1|2025-10-27 20:38:...|\n",
      "|         13|     799.84|           1|2025-10-27 20:38:...|\n",
      "|         16|     339.92|           1|2025-10-27 20:38:...|\n",
      "|          6|     839.88|           1|2025-10-27 20:38:...|\n",
      "|          3|     519.88|           1|2025-10-27 20:38:...|\n",
      "|          5|     719.88|           1|2025-10-27 20:38:...|\n",
      "|         19|     739.92|           1|2025-10-27 20:38:...|\n",
      "|         15|    1119.88|           1|2025-10-27 20:38:...|\n",
      "|         17|     919.88|           1|2025-10-27 20:38:...|\n",
      "|          9|     879.88|           1|2025-10-27 20:38:...|\n",
      "|          4|     599.92|           1|2025-10-27 20:38:...|\n",
      "|          8|     959.88|           1|2025-10-27 20:38:...|\n",
      "|          7|     819.84|           1|2025-10-27 20:38:...|\n",
      "|         10|     319.92|           1|2025-10-27 20:38:...|\n",
      "|         21|    1779.92|           1|2025-10-27 20:38:...|\n",
      "|         11|     499.88|           1|2025-10-27 20:38:...|\n",
      "|         14|    1739.92|           1|2025-10-27 20:38:...|\n",
      "|          2|     399.88|           1|2025-10-27 20:38:...|\n",
      "+-----------+-----------+------------+--------------------+\n",
      "\n"
     ]
    }
   ],
   "source": [
    "spark.sql(\"\"\"\n",
    "SELECT * from ice.demo.customer_spend_summary;\n",
    "\"\"\").show()"
   ]
  },
  {
   "cell_type": "markdown",
   "id": "eda59bdb-64a7-4d29-965b-7e2c25994910",
   "metadata": {},
   "source": [
    "#### Let's add 40 more sales!"
   ]
  },
  {
   "cell_type": "code",
   "execution_count": 11,
   "id": "3115a5ec-141e-4533-b6b5-f6271201ff16",
   "metadata": {},
   "outputs": [
    {
     "data": {
      "text/plain": [
       "DataFrame[]"
      ]
     },
     "execution_count": 11,
     "metadata": {},
     "output_type": "execute_result"
    }
   ],
   "source": [
    "spark.sql(\"\"\"\n",
    "INSERT INTO ice.demo.orders VALUES\n",
    "('0c7adf4d-5a1f-493c-9f1a-1e1a6b4d4c01', TIMESTAMP '2025-10-18 10:12:05', 4),\n",
    "('1a5b0b1a-6d23-4ce0-8b9f-2d0fd0fca202', TIMESTAMP '2025-10-18 11:44:37', 11),\n",
    "('2e8c2e0f-3a9f-4d2a-9e7c-6a567a9f8c03', TIMESTAMP '2025-10-18 15:20:11', 19),\n",
    "('3b7f3ad2-2d44-49e9-b4e4-9b0d5b6c7d04', TIMESTAMP '2025-10-18 18:59:52', 6),\n",
    "('4d2a6c7b-9f1e-4d0a-8c2e-1a3b5d7f8e05', TIMESTAMP '2025-10-19 09:05:18', 15),\n",
    "('5e3b7d9c-1f2a-42b0-9c8e-7d6a5b4c3a06', TIMESTAMP '2025-10-19 12:21:43', 8),\n",
    "('6f4c8e0d-2a3b-41c0-8d9e-5c4b3a2f1e07', TIMESTAMP '2025-10-19 16:45:29', 21),\n",
    "('7a5d9f1e-3b4c-42d1-9e0f-6d5c4b3a2e08', TIMESTAMP '2025-10-19 20:31:02', 2),\n",
    "('8b6e0a2f-4c5d-43e2-8f10-7e6d5c4b3a09', TIMESTAMP '2025-10-20 08:14:56', 12),\n",
    "('9c7f1b3e-5d6e-44f3-9a21-8f7e6d5c4b10', TIMESTAMP '2025-10-20 11:37:21', 5),\n",
    "('a08e2c4d-6e7f-4504-8b32-9a8f7e6d5c11', TIMESTAMP '2025-10-20 14:58:47', 17),\n",
    "('b19f3d5e-7f80-4615-9c43-0b9a8f7e6d12', TIMESTAMP '2025-10-20 18:20:33', 3),\n",
    "('c2a04e6f-8091-4726-8d54-1c0b9a8f7e13', TIMESTAMP '2025-10-21 09:11:05', 22),\n",
    "('d3b15f80-91a2-4837-9e65-2d1c0b9a8f14', TIMESTAMP '2025-10-21 10:49:42', 10),\n",
    "('e4c27091-a2b3-4948-8f76-3e2d1c0b9a15', TIMESTAMP '2025-10-21 13:33:09', 7),\n",
    "('f5d381a2-b3c4-4a59-9a87-4f3e2d1c0b16', TIMESTAMP '2025-10-21 17:05:55', 14),\n",
    "('06e492b3-c4d5-4b6a-8b98-504f3e2d1c17', TIMESTAMP '2025-10-22 08:07:13', 1),\n",
    "('17f5a3c4-d5e6-4c7b-9ca9-61504f3e2d18', TIMESTAMP '2025-10-22 10:12:49', 9),\n",
    "('2816b4d5-e6f7-4d8c-8dba-7261504f3e19', TIMESTAMP '2025-10-22 12:58:31', 16),\n",
    "('3927c5e6-f708-4e9d-9ecb-837261504f20', TIMESTAMP '2025-10-22 19:44:02', 13),\n",
    "('4a38d6f7-0819-4fae-8fdc-948372615021', TIMESTAMP '2025-10-23 09:22:45', 18),\n",
    "('5b49e708-192a-40bf-9aed-a58372615022', TIMESTAMP '2025-10-23 11:39:58', 20),\n",
    "('6c5af819-2a3b-41c0-8bde-b69483726123', TIMESTAMP '2025-10-23 14:55:16', 11),\n",
    "('7d6b091a-3b4c-42d1-9cef-c7a594837224', TIMESTAMP '2025-10-23 18:27:41', 4),\n",
    "('8e7c1a2b-4c5d-43e2-8df0-d8b6a5948325', TIMESTAMP '2025-10-24 08:03:29', 6),\n",
    "('9f8d2b3c-5d6e-44f3-9e01-e9c7b6a59426', TIMESTAMP '2025-10-24 11:21:56', 21),\n",
    "('a09e3c4d-6e7f-4504-8f12-faD8c7b6a527', TIMESTAMP '2025-10-24 13:14:07', 8),\n",
    "('b1af4d5e-7f80-4615-9a23-0be9d8c7b628', TIMESTAMP '2025-10-24 16:52:44', 2),\n",
    "('c2b05e6f-8091-4726-8b34-1c0ed9d8c729', TIMESTAMP '2025-10-24 20:05:18', 5),\n",
    "('d3c16f80-91a2-4837-9c45-2d1f0ed9d730', TIMESTAMP '2025-10-25 09:11:55', 12),\n",
    "('e4d27091-a2b3-4948-8d56-3e201f0ed731', TIMESTAMP '2025-10-25 12:40:36', 7),\n",
    "('f5e381a2-b3c4-4a59-9e67-4f32201f0e32', TIMESTAMP '2025-10-25 15:19:22', 19),\n",
    "('06f492b3-c4d5-4b6a-8f78-503433201f33', TIMESTAMP '2025-10-25 18:48:10', 9),\n",
    "('1705a3c4-d5e6-4c7b-9a89-614034332034', TIMESTAMP '2025-10-26 08:09:44', 3),\n",
    "('2816b4d5-e6f7-4d8c-8b9a-726140343235', TIMESTAMP '2025-10-26 10:22:19', 10),\n",
    "('3927c5e6-f708-4e9d-9c0b-837261403436', TIMESTAMP '2025-10-26 13:05:50', 14),\n",
    "('4a38d6f7-0819-4fae-8d1c-948372614037', TIMESTAMP '2025-10-26 16:47:03', 1),\n",
    "('5b49e708-192a-40bf-9e2d-a58372614038', TIMESTAMP '2025-10-26 19:58:27', 16),\n",
    "('6c5af819-2a3b-41c0-8f3e-b69483726139', TIMESTAMP '2025-10-27 08:12:33', 18),\n",
    "('7d6b091a-3b4c-42d1-9a4f-c7a594837240', TIMESTAMP '2025-10-27 10:55:41', 13)\n",
    "\"\"\")"
   ]
  },
  {
   "cell_type": "code",
   "execution_count": 12,
   "id": "c5c32485-8ebc-4823-a39e-c5a210126e82",
   "metadata": {},
   "outputs": [
    {
     "data": {
      "text/plain": [
       "DataFrame[]"
      ]
     },
     "execution_count": 12,
     "metadata": {},
     "output_type": "execute_result"
    }
   ],
   "source": [
    "spark.sql(\"\"\"\n",
    "INSERT INTO ice.demo.order_items VALUES\n",
    "('11111111-1111-4111-8111-111111111101','0c7adf4d-5a1f-493c-9f1a-1e1a6b4d4c01', 13, 1),\n",
    "('22222222-2222-4222-8222-222222222202','0c7adf4d-5a1f-493c-9f1a-1e1a6b4d4c01', 21, 2),\n",
    "\n",
    "('33333333-3333-4333-8333-333333333303','1a5b0b1a-6d23-4ce0-8b9f-2d0fd0fca202', 8, 1),\n",
    "('44444444-4444-4444-8444-444444444404','1a5b0b1a-6d23-4ce0-8b9f-2d0fd0fca202', 3, 2),\n",
    "\n",
    "('55555555-5555-4555-8555-555555555505','2e8c2e0f-3a9f-4d2a-9e7c-6a567a9f8c03', 18, 1),\n",
    "\n",
    "('66666666-6666-4666-8666-666666666606','3b7f3ad2-2d44-49e9-b4e4-9b0d5b6c7d04', 6, 1),\n",
    "('77777777-7777-4777-8777-777777777707','3b7f3ad2-2d44-49e9-b4e4-9b0d5b6c7d04', 15, 1),\n",
    "\n",
    "('88888888-8888-4888-8888-888888888808','4d2a6c7b-9f1e-4d0a-8c2e-1a3b5d7f8e05', 20, 1),\n",
    "\n",
    "('99999999-9999-4999-8999-999999999909','5e3b7d9c-1f2a-42b0-9c8e-7d6a5b4c3a06', 5, 1),\n",
    "('aaaaaaa0-aaaa-4aaa-8aaa-aaaaaaaaaaa0','5e3b7d9c-1f2a-42b0-9c8e-7d6a5b4c3a06', 10, 1),\n",
    "\n",
    "('bbbbbbb1-bbbb-4bbb-8bbb-bbbbbbbbbbb1','6f4c8e0d-2a3b-41c0-8d9e-5c4b3a2f1e07', 24, 1),\n",
    "\n",
    "('ccccccc2-cccc-4ccc-8ccc-ccccccccccc2','7a5d9f1e-3b4c-42d1-9e0f-6d5c4b3a2e08', 1, 2),\n",
    "\n",
    "('ddddddd3-dddd-4ddd-8ddd-ddddddddddd3','8b6e0a2f-4c5d-43e2-8f10-7e6d5c4b3a09', 9, 1),\n",
    "('eeeeeee4-eeee-4eee-8eee-eeeeeeeeeee4','8b6e0a2f-4c5d-43e2-8f10-7e6d5c4b3a09', 11, 1),\n",
    "\n",
    "('fffffff5-ffff-4fff-8fff-fffffffffff5','9c7f1b3e-5d6e-44f3-9a21-8f7e6d5c4b10', 14, 1),\n",
    "\n",
    "('00000006-0000-4000-8000-000000000006','a08e2c4d-6e7f-4504-8b32-9a8f7e6d5c11', 7, 2),\n",
    "\n",
    "('12345678-0000-4000-8000-000000000007','b19f3d5e-7f80-4615-9c43-0b9a8f7e6d12', 16, 1),\n",
    "('22345678-0000-4000-8000-000000000008','b19f3d5e-7f80-4615-9c43-0b9a8f7e6d12', 2, 1),\n",
    "\n",
    "('32345678-0000-4000-8000-000000000009','c2a04e6f-8091-4726-8d54-1c0b9a8f7e13', 23, 1),\n",
    "\n",
    "('42345678-0000-4000-8000-000000000010','d3b15f80-91a2-4837-9e65-2d1c0b9a8f14', 6, 1),\n",
    "\n",
    "('52345678-0000-4000-8000-000000000011','e4c27091-a2b3-4948-8f76-3e2d1c0b9a15', 12, 2),\n",
    "\n",
    "('62345678-0000-4000-8000-000000000012','f5d381a2-b3c4-4a59-9a87-4f3e2d1c0b16', 3, 1),\n",
    "('72345678-0000-4000-8000-000000000013','f5d381a2-b3c4-4a59-9a87-4f3e2d1c0b16', 4, 1),\n",
    "\n",
    "('82345678-0000-4000-8000-000000000014','06e492b3-c4d5-4b6a-8b98-504f3e2d1c17', 5, 1),\n",
    "\n",
    "('92345678-0000-4000-8000-000000000015','17f5a3c4-d5e6-4c7b-9ca9-61504f3e2d18', 18, 1),\n",
    "\n",
    "('a2345678-0000-4000-8000-000000000016','2816b4d5-e6f7-4d8c-8dba-7261504f3e19', 8, 1),\n",
    "('b2345678-0000-4000-8000-000000000017','2816b4d5-e6f7-4d8c-8dba-7261504f3e19', 19, 1),\n",
    "\n",
    "('c2345678-0000-4000-8000-000000000018','3927c5e6-f708-4e9d-9ecb-837261504f20', 10, 1),\n",
    "\n",
    "('d2345678-0000-4000-8000-000000000019','4a38d6f7-0819-4fae-8fdc-948372615021', 25, 1),\n",
    "('e2345678-0000-4000-8000-000000000020','4a38d6f7-0819-4fae-8fdc-948372615021', 14, 1),\n",
    "\n",
    "('f2345678-0000-4000-8000-000000000021','5b49e708-192a-40bf-9aed-a58372615022', 9, 2),\n",
    "\n",
    "('01234567-89ab-41cd-8ef0-0123456789a1','6c5af819-2a3b-41c0-8bde-b69483726123', 22, 1),\n",
    "\n",
    "('11234567-89ab-41cd-8ef0-1123456789a2','7d6b091a-3b4c-42d1-9cef-c7a594837224', 7, 1),\n",
    "('21234567-89ab-41cd-8ef0-2123456789a3','7d6b091a-3b4c-42d1-9cef-c7a594837224', 1, 1),\n",
    "\n",
    "('31234567-89ab-41cd-8ef0-3123456789a4','8e7c1a2b-4c5d-43e2-8df0-d8b6a5948325', 4, 1),\n",
    "\n",
    "('41234567-89ab-41cd-8ef0-4123456789a5','9f8d2b3c-5d6e-44f3-9e01-e9c7b6a59426', 11, 1),\n",
    "\n",
    "('51234567-89ab-41cd-8ef0-5123456789a6','a09e3c4d-6e7f-4504-8f12-faD8c7b6a527', 13, 1),\n",
    "\n",
    "('61234567-89ab-41cd-8ef0-6123456789a7','b1af4d5e-7f80-4615-9a23-0be9d8c7b628', 5, 1),\n",
    "('71234567-89ab-41cd-8ef0-7123456789a8','b1af4d5e-7f80-4615-9a23-0be9d8c7b628', 2, 2),\n",
    "\n",
    "('81234567-89ab-41cd-8ef0-8123456789a9','c2b05e6f-8091-4726-8b34-1c0ed9d8c729', 6, 1),\n",
    "\n",
    "('91234567-89ab-41cd-8ef0-9123456789b0','d3c16f80-91a2-4837-9c45-2d1f0ed9d730', 20, 1),\n",
    "\n",
    "('a1234567-89ab-41cd-8ef0-a123456789b1','e4d27091-a2b3-4948-8d56-3e201f0ed731', 24, 1),\n",
    "\n",
    "('b1234567-89ab-41cd-8ef0-b123456789b2','f5e381a2-b3c4-4a59-9e67-4f32201f0e32', 15, 1),\n",
    "\n",
    "('c1234567-89ab-41cd-8ef0-c123456789b3','06f492b3-c4d5-4b6a-8f78-503433201f33', 10, 1),\n",
    "('d1234567-89ab-41cd-8ef0-d123456789b4','06f492b3-c4d5-4b6a-8f78-503433201f33', 3, 1),\n",
    "\n",
    "('e1234567-89ab-41cd-8ef0-e123456789b5','1705a3c4-d5e6-4c7b-9a89-614034332034', 18, 2),\n",
    "\n",
    "('f1234567-89ab-41cd-8ef0-f123456789b6','2816b4d5-e6f7-4d8c-8b9a-726140343235', 9, 1),\n",
    "\n",
    "('0abc4567-89ab-41cd-8ef0-0abc456789b7','3927c5e6-f708-4e9d-9c0b-837261403436', 21, 1),\n",
    "('1abc4567-89ab-41cd-8ef0-1abc456789b8','3927c5e6-f708-4e9d-9c0b-837261403436', 4, 1),\n",
    "\n",
    "('2abc4567-89ab-41cd-8ef0-2abc456789b9','4a38d6f7-0819-4fae-8d1c-948372614037', 16, 1),\n",
    "\n",
    "('3abc4567-89ab-41cd-8ef0-3abc456789c0','5b49e708-192a-40bf-9e2d-a58372614038', 12, 1),\n",
    "('4abc4567-89ab-41cd-8ef0-4abc456789c1','5b49e708-192a-40bf-9e2d-a58372614038', 19, 1),\n",
    "\n",
    "('5abc4567-89ab-41cd-8ef0-5abc456789c2','6c5af819-2a3b-41c0-8f3e-b69483726139', 7, 1),\n",
    "\n",
    "('6abc4567-89ab-41cd-8ef0-6abc456789c3','7d6b091a-3b4c-42d1-9a4f-c7a594837240', 1, 1),\n",
    "('7abc4567-89ab-41cd-8ef0-7abc456789c4','7d6b091a-3b4c-42d1-9a4f-c7a594837240', 22, 1)\n",
    "\"\"\")"
   ]
  },
  {
   "cell_type": "markdown",
   "id": "2184f6a8-814e-4522-a60c-208c243a5a28",
   "metadata": {},
   "source": [
    "Then let's query it again"
   ]
  },
  {
   "cell_type": "code",
   "execution_count": 13,
   "id": "23111ac8-2440-46f5-a40a-633858e29aad",
   "metadata": {},
   "outputs": [
    {
     "name": "stdout",
     "output_type": "stream",
     "text": [
      "+-----------+-----------+------------+--------------------+\n",
      "|customer_id|total_spent|total_orders|       snapshot_time|\n",
      "+-----------+-----------+------------+--------------------+\n",
      "|         12|    1399.88|           1|2025-10-27 20:38:...|\n",
      "|         22|     579.88|           1|2025-10-27 20:38:...|\n",
      "|          1|    1679.84|           1|2025-10-27 20:38:...|\n",
      "|         13|     799.84|           1|2025-10-27 20:38:...|\n",
      "|         16|     339.92|           1|2025-10-27 20:38:...|\n",
      "|          6|     839.88|           1|2025-10-27 20:38:...|\n",
      "|          3|     519.88|           1|2025-10-27 20:38:...|\n",
      "|          5|     719.88|           1|2025-10-27 20:38:...|\n",
      "|         19|     739.92|           1|2025-10-27 20:38:...|\n",
      "|         15|    1119.88|           1|2025-10-27 20:38:...|\n",
      "|         17|     919.88|           1|2025-10-27 20:38:...|\n",
      "|          9|     879.88|           1|2025-10-27 20:38:...|\n",
      "|          4|     599.92|           1|2025-10-27 20:38:...|\n",
      "|          8|     959.88|           1|2025-10-27 20:38:...|\n",
      "|          7|     819.84|           1|2025-10-27 20:38:...|\n",
      "|         10|     319.92|           1|2025-10-27 20:38:...|\n",
      "|         21|    1779.92|           1|2025-10-27 20:38:...|\n",
      "|         11|     499.88|           1|2025-10-27 20:38:...|\n",
      "|         14|    1739.92|           1|2025-10-27 20:38:...|\n",
      "|          2|     399.88|           1|2025-10-27 20:38:...|\n",
      "+-----------+-----------+------------+--------------------+\n",
      "\n"
     ]
    }
   ],
   "source": [
    "spark.sql(\"\"\"\n",
    "SELECT * from ice.demo.customer_spend_summary;\n",
    "\"\"\").show()"
   ]
  },
  {
   "cell_type": "markdown",
   "id": "887704dc-e688-4055-a97d-e7830447ced0",
   "metadata": {},
   "source": [
    "Let's regenerate the view, since it is merely a snapshot of the last creation"
   ]
  },
  {
   "cell_type": "code",
   "execution_count": 14,
   "id": "38874dce-25f7-4239-babb-a60ab87d6746",
   "metadata": {},
   "outputs": [
    {
     "data": {
      "text/plain": [
       "DataFrame[]"
      ]
     },
     "execution_count": 14,
     "metadata": {},
     "output_type": "execute_result"
    }
   ],
   "source": [
    "spark.sql(\"\"\"\n",
    "INSERT OVERWRITE ice.demo.customer_spend_summary\n",
    "SELECT\n",
    "    o.customer_id,\n",
    "    ROUND(SUM(oi.quantity * p.price), 2) AS total_spent,\n",
    "    COUNT(DISTINCT o.id) AS total_orders,\n",
    "    CURRENT_TIMESTAMP() AS snapshot_time\n",
    "FROM ice.demo.orders o\n",
    "JOIN ice.demo.order_items oi ON o.id = oi.order_id\n",
    "JOIN ice.demo.products p ON oi.product_id = p.product_id\n",
    "GROUP BY o.customer_id\n",
    "\"\"\")"
   ]
  },
  {
   "cell_type": "code",
   "execution_count": 15,
   "id": "91826885-c751-4409-968e-ba5620b455a7",
   "metadata": {},
   "outputs": [
    {
     "name": "stdout",
     "output_type": "stream",
     "text": [
      "+-----------+-----------+------------+--------------------+\n",
      "|customer_id|total_spent|total_orders|       snapshot_time|\n",
      "+-----------+-----------+------------+--------------------+\n",
      "|         12|    1559.85|           3|2025-10-27 20:50:...|\n",
      "|         22|     729.87|           2|2025-10-27 20:50:...|\n",
      "|          1|    1859.82|           3|2025-10-27 20:50:...|\n",
      "|         13|     914.81|           3|2025-10-27 20:50:...|\n",
      "|         16|     564.88|           3|2025-10-27 20:50:...|\n",
      "|          6|    1309.85|           3|2025-10-27 20:50:...|\n",
      "|          3|     909.84|           3|2025-10-27 20:50:...|\n",
      "|         20|      39.98|           1|2025-10-27 20:50:...|\n",
      "|          5|    1269.86|           3|2025-10-27 20:50:...|\n",
      "|         19|      869.9|           3|2025-10-27 20:50:...|\n",
      "|         15|    1199.87|           2|2025-10-27 20:50:...|\n",
      "|         17|     989.86|           2|2025-10-27 20:50:...|\n",
      "|          9|    1039.85|           3|2025-10-27 20:50:...|\n",
      "|          4|    1159.87|           3|2025-10-27 20:50:...|\n",
      "|          8|    1439.85|           3|2025-10-27 20:50:...|\n",
      "|          7|     944.81|           3|2025-10-27 20:50:...|\n",
      "|         10|      639.9|           3|2025-10-27 20:50:...|\n",
      "|         21|     1874.9|           3|2025-10-27 20:50:...|\n",
      "|         11|     759.84|           3|2025-10-27 20:50:...|\n",
      "|         14|    2089.88|           3|2025-10-27 20:50:...|\n",
      "+-----------+-----------+------------+--------------------+\n",
      "only showing top 20 rows\n",
      "\n"
     ]
    }
   ],
   "source": [
    "spark.sql(\"\"\"\n",
    "SELECT * from ice.demo.customer_spend_summary;\n",
    "\"\"\").show()"
   ]
  },
  {
   "cell_type": "markdown",
   "id": "b185a334-6ba1-45dd-9acb-0b0b02872aa7",
   "metadata": {},
   "source": [
    "Add more sales for diverse patterns"
   ]
  },
  {
   "cell_type": "code",
   "execution_count": 16,
   "id": "857e89d1-288c-4710-8ea3-5f2af6982f66",
   "metadata": {},
   "outputs": [
    {
     "data": {
      "text/plain": [
       "DataFrame[]"
      ]
     },
     "execution_count": 16,
     "metadata": {},
     "output_type": "execute_result"
    }
   ],
   "source": [
    "spark.sql(\"\"\"\n",
    "INSERT INTO ice.demo.orders VALUES\n",
    "  ('b6c8d3b7-1a2f-4b88-94ab-0d7a91a5b201', TIMESTAMP '2025-10-28 09:35:10', 3),\n",
    "  ('c7d9e4c8-2b3f-4c99-a5bc-1e8b02b6c302', TIMESTAMP '2025-10-28 13:22:44', 9),\n",
    "  ('d8e0f5d9-3c4f-4daa-b6cd-2f9c13c7d403', TIMESTAMP '2025-10-28 18:47:59', 15)\n",
    "\"\"\")\n",
    "\n",
    "spark.sql(\"\"\"\n",
    "INSERT INTO ice.demo.order_items VALUES\n",
    "  ('111aaa11-aaaa-4111-8aaa-111111aaa001','b6c8d3b7-1a2f-4b88-94ab-0d7a91a5b201', 5, 2),\n",
    "  ('222bbb22-bbbb-4222-8bbb-222222bbb002','b6c8d3b7-1a2f-4b88-94ab-0d7a91a5b201', 13, 1),\n",
    "  ('333ccc33-cccc-4333-8ccc-333333ccc003','b6c8d3b7-1a2f-4b88-94ab-0d7a91a5b201', 20, 1),\n",
    "\n",
    "  ('444ddd44-dddd-4444-8ddd-444444ddd004','c7d9e4c8-2b3f-4c99-a5bc-1e8b02b6c302', 7, 1),\n",
    "  ('555eee55-eeee-4555-8eee-555555eee005','c7d9e4c8-2b3f-4c99-a5bc-1e8b02b6c302', 9, 2),\n",
    "\n",
    "  ('666fff66-ffff-4666-8fff-666666fff006','d8e0f5d9-3c4f-4daa-b6cd-2f9c13c7d403', 16, 1),\n",
    "  ('777ggg77-gggg-4777-8ggg-777777ggg007','d8e0f5d9-3c4f-4daa-b6cd-2f9c13c7d403', 2, 2)\n",
    "\"\"\")"
   ]
  },
  {
   "cell_type": "markdown",
   "id": "7eaa0751-5465-47a0-a698-27c54c1ab9e2",
   "metadata": {},
   "source": [
    "Then query it again"
   ]
  },
  {
   "cell_type": "code",
   "execution_count": 17,
   "id": "0aa3398e-d50e-4552-919f-d31c66b0b4a5",
   "metadata": {},
   "outputs": [
    {
     "data": {
      "text/plain": [
       "DataFrame[]"
      ]
     },
     "execution_count": 17,
     "metadata": {},
     "output_type": "execute_result"
    }
   ],
   "source": [
    "spark.sql(\"\"\"\n",
    "INSERT OVERWRITE ice.demo.customer_spend_summary\n",
    "SELECT\n",
    "    o.customer_id,\n",
    "    ROUND(SUM(oi.quantity * p.price), 2) AS total_spent,\n",
    "    COUNT(DISTINCT o.id) AS total_orders,\n",
    "    CURRENT_TIMESTAMP() AS snapshot_time\n",
    "FROM ice.demo.orders o\n",
    "JOIN ice.demo.order_items oi ON o.id = oi.order_id\n",
    "JOIN ice.demo.products p ON oi.product_id = p.product_id\n",
    "GROUP BY o.customer_id\n",
    "\"\"\")"
   ]
  },
  {
   "cell_type": "markdown",
   "id": "05997ba1-0367-4717-aa47-38bcb6b5aa34",
   "metadata": {},
   "source": [
    "Show the results"
   ]
  },
  {
   "cell_type": "code",
   "execution_count": 18,
   "id": "d182e3bb-d45d-419a-a2d7-b04d735eb330",
   "metadata": {},
   "outputs": [
    {
     "name": "stdout",
     "output_type": "stream",
     "text": [
      "+-----------+-----------+------------+--------------------+\n",
      "|customer_id|total_spent|total_orders|       snapshot_time|\n",
      "+-----------+-----------+------------+--------------------+\n",
      "|         12|    1559.85|           3|2025-10-27 20:52:...|\n",
      "|         22|     729.87|           2|2025-10-27 20:52:...|\n",
      "|          1|    1859.82|           3|2025-10-27 20:52:...|\n",
      "|         13|     914.81|           3|2025-10-27 20:52:...|\n",
      "|         16|     564.88|           3|2025-10-27 20:52:...|\n",
      "|          6|    1309.85|           3|2025-10-27 20:52:...|\n",
      "|          3|     1489.8|           4|2025-10-27 20:52:...|\n",
      "|         20|      39.98|           1|2025-10-27 20:52:...|\n",
      "|          5|    1269.86|           3|2025-10-27 20:52:...|\n",
      "|         19|      869.9|           3|2025-10-27 20:52:...|\n",
      "|         15|    1489.84|           3|2025-10-27 20:52:...|\n",
      "|         17|     989.86|           2|2025-10-27 20:52:...|\n",
      "|          9|    1114.82|           4|2025-10-27 20:52:...|\n",
      "|          4|    1159.87|           3|2025-10-27 20:52:...|\n",
      "|          8|    1439.85|           3|2025-10-27 20:52:...|\n",
      "|          7|     944.81|           3|2025-10-27 20:52:...|\n",
      "|         10|      639.9|           3|2025-10-27 20:52:...|\n",
      "|         21|     1874.9|           3|2025-10-27 20:52:...|\n",
      "|         11|     759.84|           3|2025-10-27 20:52:...|\n",
      "|         14|    2089.88|           3|2025-10-27 20:52:...|\n",
      "+-----------+-----------+------------+--------------------+\n",
      "only showing top 20 rows\n",
      "\n"
     ]
    }
   ],
   "source": [
    "spark.sql(\"\"\"\n",
    "SELECT * from ice.demo.customer_spend_summary;\n",
    "\"\"\").show()"
   ]
  },
  {
   "cell_type": "markdown",
   "id": "62612cb4-28d8-4342-b1c2-12aa2b11fe9f",
   "metadata": {},
   "source": [
    "Let's add a visualization component to our aggregate"
   ]
  },
  {
   "cell_type": "code",
   "execution_count": 21,
   "id": "b7ce0975-05ee-4372-a89c-1663c9725f05",
   "metadata": {
    "scrolled": true
   },
   "outputs": [
    {
     "data": {
      "image/png": "[encoded data removed]",
      "text/plain": [
       "<Figure size 640x480 with 1 Axes>"
      ]
     },
     "metadata": {},
     "output_type": "display_data"
    }
   ],
   "source": [
    "import seaborn as sns\n",
    "import matplotlib.pyplot as plt\n",
    "import pandas as pd\n",
    "\n",
    "df = spark.sql(\"SELECT * FROM ice.demo.customer_spend_summary\").toPandas()\n",
    "sns.barplot(\n",
    "    data=df,\n",
    "    x=\"customer_id\",\n",
    "    y=\"total_spent\",\n",
    "    hue=\"customer_id\",  \n",
    "    palette=\"Blues_d\",\n",
    "    legend=False\n",
    ")\n",
    "plt.title(\"Customer Lifetime Spend Snapshot\")\n",
    "plt.xlabel(\"Customer ID\")\n",
    "plt.ylabel(\"Total Spent ($)\")\n",
    "plt.show()"
   ]
  },
  {
   "cell_type": "code",
   "execution_count": 22,
   "id": "dc4ca027-05ab-432e-b24d-4940840ff73b",
   "metadata": {},
   "outputs": [],
   "source": [
    "spark.stop()"
   ]
  }
 ],
 "metadata": {
  "kernelspec": {
   "display_name": "Python 3 (ipykernel)",
   "language": "python",
   "name": "python3"
  },
  "language_info": {
   "codemirror_mode": {
    "name": "ipython",
    "version": 3
   },
   "file_extension": ".py",
   "mimetype": "text/x-python",
   "name": "python",
   "nbconvert_exporter": "python",
   "pygments_lexer": "ipython3",
   "version": "3.11.10"
  }
 },
 "nbformat": 4,
 "nbformat_minor": 5
}
