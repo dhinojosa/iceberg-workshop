{
 "cells": [
  {
   "cell_type": "markdown",
   "id": "c56119d8-fd30-4ece-80db-a51a17561949",
   "metadata": {},
   "source": [
    "# Aggregates in Iceberg"
   ]
  },
  {
   "cell_type": "code",
   "execution_count": 17,
   "id": "d2a0218c-bcba-4bf3-bd55-0909ba6ffbcc",
   "metadata": {},
   "outputs": [],
   "source": [
    "from pyspark.sql import SparkSession\n",
    "import os"
   ]
  },
  {
   "cell_type": "code",
   "execution_count": 18,
   "id": "f086b397-6223-40a6-9634-cb9e0a0ab489",
   "metadata": {},
   "outputs": [],
   "source": [
    "spark = (\n",
    "    SparkSession.builder\n",
    "    .appName(\"Aggregates in Iceberg\")\n",
    "    .master(\"spark://spark:7077\") \n",
    "    .getOrCreate()\n",
    ")"
   ]
  },
  {
   "cell_type": "markdown",
   "id": "937f2745-3fc4-4dbc-bf90-7332b86458b3",
   "metadata": {},
   "source": [
    "Full Aggregation Report, `count`, `sum`, `round`. Joining all the other data tables (which are likely from varying sources)"
   ]
  },
  {
   "cell_type": "code",
   "execution_count": 19,
   "id": "c811d694-baa3-4ba2-abfc-a8e55198a142",
   "metadata": {},
   "outputs": [
    {
     "name": "stdout",
     "output_type": "stream",
     "text": [
      "+------------+---------------+----------------+-------------+\n",
      "|total_orders|total_customers|total_items_sold|total_revenue|\n",
      "+------------+---------------+----------------+-------------+\n",
      "|          19|             19|             216|     16737.84|\n",
      "+------------+---------------+----------------+-------------+\n",
      "\n"
     ]
    }
   ],
   "source": [
    "spark.sql(\"\"\"\n",
    "SELECT\n",
    "    COUNT(DISTINCT o.id) AS total_orders,\n",
    "    COUNT(DISTINCT c.id) AS total_customers,\n",
    "    SUM(oi.quantity) AS total_items_sold,\n",
    "    ROUND(SUM(oi.quantity * p.price), 2) AS total_revenue\n",
    "FROM ice.demo.orders o\n",
    "JOIN ice.demo.order_items oi ON o.id = oi.order_id\n",
    "JOIN ice.demo.products p ON oi.product_id = p.product_id\n",
    "JOIN ice.demo.customers c ON o.customer_id = c.id\n",
    "\"\"\").show()"
   ]
  },
  {
   "cell_type": "markdown",
   "id": "ae2417b9-f161-4655-90f3-bc37bb32c599",
   "metadata": {},
   "source": [
    "Here, let's use `CASE` and `WHEN` which is available for our query engine, Spark. Every query engine has different powerful querying possibilities"
   ]
  },
  {
   "cell_type": "code",
   "execution_count": 20,
   "id": "f16c8382-3cdd-42fa-bc1d-d2db8a832adf",
   "metadata": {},
   "outputs": [
    {
     "name": "stdout",
     "output_type": "stream",
     "text": [
      "+----------+----------+-------------+\n",
      "|price_tier|items_sold|total_revenue|\n",
      "+----------+----------+-------------+\n",
      "| Mid-range|        15|      3739.58|\n",
      "|   Premium|         4|      2699.92|\n",
      "|  Low-cost|        21|      2389.36|\n",
      "+----------+----------+-------------+\n",
      "\n"
     ]
    }
   ],
   "source": [
    "spark.sql(\"\"\"\n",
    "SELECT\n",
    "    CASE\n",
    "        WHEN p.price < 50 THEN 'Low-cost'\n",
    "        WHEN p.price BETWEEN 50 AND 150 THEN 'Mid-range'\n",
    "        ELSE 'Premium'\n",
    "    END AS price_tier,\n",
    "    COUNT(DISTINCT oi.id) AS items_sold,\n",
    "    ROUND(SUM(oi.quantity * p.price), 2) AS total_revenue\n",
    "FROM ice.demo.order_items oi\n",
    "JOIN ice.demo.products p ON oi.product_id = p.product_id\n",
    "GROUP BY price_tier\n",
    "ORDER BY total_revenue DESC\n",
    "\"\"\").show()"
   ]
  },
  {
   "cell_type": "markdown",
   "id": "1c69a095-f9bf-4eb1-a016-07f1674c3502",
   "metadata": {},
   "source": [
    "## `ROLLUP`\n",
    "\n",
    "Let's perform a `ROLLUP` which provides layers of analysis:\n",
    "\n",
    "1. Totals per (customer, product),\n",
    "2. Totals per customer,\n",
    "3. Grand total\n"
   ]
  },
  {
   "cell_type": "code",
   "execution_count": 21,
   "id": "dac33b27-020d-4363-af00-bd7a44c470b9",
   "metadata": {},
   "outputs": [
    {
     "name": "stdout",
     "output_type": "stream",
     "text": [
      "+-------------+-------------------+-----------+\n",
      "|customer_name|       product_name|total_spent|\n",
      "+-------------+-------------------+-----------+\n",
      "|  Alice Smith|               NULL|    1679.84|\n",
      "|  Alice Smith|     Gaming Monitor|    1199.96|\n",
      "|  Alice Smith|          USB-C Hub|     479.88|\n",
      "| Aria Johnson|               NULL|     739.92|\n",
      "| Aria Johnson|         Smartwatch|     599.96|\n",
      "| Aria Johnson|   Book: Clean Code|     139.96|\n",
      "| Ava Thompson|               NULL|     879.88|\n",
      "| Ava Thompson|Mechanical Keyboard|     639.92|\n",
      "| Ava Thompson|       Coffee Maker|     239.96|\n",
      "| Benjamin Kim|               NULL|    1739.92|\n",
      "| Benjamin Kim|      Standing Desk|    1599.96|\n",
      "| Benjamin Kim|       Laptop Stand|     139.96|\n",
      "|  Bob Johnson|               NULL|     399.88|\n",
      "|  Bob Johnson|       Laptop Stand|     279.92|\n",
      "|  Bob Johnson|   Wireless Charger|     119.96|\n",
      "|  Carol Adams|               NULL|     519.88|\n",
      "|  Carol Adams|          USB-C Hub|     319.92|\n",
      "|  Carol Adams|          Webcam HD|     199.96|\n",
      "|Diego Ramirez|               NULL|     599.92|\n",
      "|Diego Ramirez|       Portable SSD|     479.96|\n",
      "+-------------+-------------------+-----------+\n",
      "only showing top 20 rows\n",
      "\n"
     ]
    }
   ],
   "source": [
    "spark.sql(\"\"\"\n",
    "SELECT\n",
    "    customer_name,\n",
    "    product_name,\n",
    "    ROUND(SUM(base.quantity * base.price), 2) AS total_spent\n",
    "FROM (\n",
    "    SELECT\n",
    "        c.name  AS customer_name,\n",
    "        p.name  AS product_name,\n",
    "        oi.quantity,\n",
    "        p.price\n",
    "    FROM ice.demo.orders o\n",
    "    JOIN ice.demo.customers c ON o.customer_id = c.id\n",
    "    JOIN ice.demo.order_items oi ON o.id = oi.order_id\n",
    "    JOIN ice.demo.products p ON oi.product_id = p.product_id\n",
    ") AS base\n",
    "GROUP BY ROLLUP (customer_name, product_name)\n",
    "ORDER BY customer_name NULLS LAST, total_spent DESC\n",
    "\"\"\").show()"
   ]
  },
  {
   "cell_type": "markdown",
   "id": "8bfcb025-2799-49f8-942b-47575ed88b6a",
   "metadata": {},
   "source": [
    "## `HAVING`\n",
    "\n",
    "`HAVING` is for queries that have a `GROUP BY` where additional querying needs to be performed after the grouping"
   ]
  },
  {
   "cell_type": "code",
   "execution_count": 22,
   "id": "055f9a40-ab29-4a27-9aca-83256f64fb1c",
   "metadata": {},
   "outputs": [
    {
     "name": "stdout",
     "output_type": "stream",
     "text": [
      "+--------------+---------------+\n",
      "| customer_name|avg_order_value|\n",
      "+--------------+---------------+\n",
      "|   Jack Wilson|        1779.92|\n",
      "|  Benjamin Kim|        1739.92|\n",
      "|   Alice Smith|        1679.84|\n",
      "|  Lucas Martin|        1399.88|\n",
      "|Isabella Rossi|        1119.88|\n",
      "| Noah Williams|         959.88|\n",
      "|  Ava Thompson|         879.88|\n",
      "| Liam O’Connor|         839.88|\n",
      "| Sofia Almeida|         819.84|\n",
      "| Emma Robinson|         799.84|\n",
      "|  Aria Johnson|         739.92|\n",
      "|    Maya Patel|         719.88|\n",
      "| Diego Ramirez|         599.92|\n",
      "|      Zoe King|         579.88|\n",
      "|   Carol Adams|         519.88|\n",
      "| Olivia Garcia|         499.88|\n",
      "|   Bob Johnson|         399.88|\n",
      "|  James Nguyen|         339.92|\n",
      "|    Ethan Chen|         319.92|\n",
      "+--------------+---------------+\n",
      "\n"
     ]
    }
   ],
   "source": [
    "spark.sql(\"\"\"\n",
    "SELECT\n",
    "    c.name AS customer_name,\n",
    "    ROUND(AVG(order_total), 2) AS avg_order_value\n",
    "FROM (\n",
    "    SELECT\n",
    "        o.id AS order_id,\n",
    "        o.customer_id,\n",
    "        SUM(oi.quantity * p.price) AS order_total\n",
    "    FROM ice.demo.orders o\n",
    "    JOIN ice.demo.order_items oi ON o.id = oi.order_id\n",
    "    JOIN ice.demo.products p ON oi.product_id = p.product_id\n",
    "    GROUP BY o.id, o.customer_id\n",
    ") joined_orders\n",
    "JOIN ice.demo.customers c ON joined_orders.customer_id = c.id\n",
    "GROUP BY c.name\n",
    "HAVING AVG(order_total) > 200\n",
    "ORDER BY avg_order_value DESC\n",
    "\"\"\").show()"
   ]
  },
  {
   "cell_type": "markdown",
   "id": "c99cf4a3-2764-40e5-ae13-bd8aeca6f807",
   "metadata": {},
   "source": [
    "## `CUBE`\n",
    "\n",
    "`CUBE` computes all combinations of the grouping dimensions. Very useful for BI rollups and time-based insights."
   ]
  },
  {
   "cell_type": "code",
   "execution_count": 36,
   "id": "1a7079d5-3e7c-4b76-a117-52947eeb5443",
   "metadata": {},
   "outputs": [
    {
     "name": "stdout",
     "output_type": "stream",
     "text": [
      "+-------------------+--------------+----------+-----------+\n",
      "|week               |customer_name |price_tier|total_spent|\n",
      "+-------------------+--------------+----------+-----------+\n",
      "|NULL               |NULL          |NULL      |16737.84   |\n",
      "|NULL               |NULL          |Low-cost  |4378.8     |\n",
      "|NULL               |NULL          |Mid-range |6959.2     |\n",
      "|NULL               |NULL          |Premium   |5399.84    |\n",
      "|NULL               |Alice Smith   |Premium   |1199.96    |\n",
      "|NULL               |Alice Smith   |NULL      |1679.84    |\n",
      "|NULL               |Alice Smith   |Low-cost  |479.88     |\n",
      "|NULL               |Aria Johnson  |Low-cost  |139.96     |\n",
      "|NULL               |Aria Johnson  |Mid-range |599.96     |\n",
      "|NULL               |Aria Johnson  |NULL      |739.92     |\n",
      "|NULL               |Ava Thompson  |NULL      |879.88     |\n",
      "|NULL               |Ava Thompson  |Mid-range |879.88     |\n",
      "|NULL               |Benjamin Kim  |Premium   |1599.96    |\n",
      "|NULL               |Benjamin Kim  |NULL      |1739.92    |\n",
      "|NULL               |Benjamin Kim  |Low-cost  |139.96     |\n",
      "|NULL               |Bob Johnson   |NULL      |399.88     |\n",
      "|NULL               |Bob Johnson   |Low-cost  |399.88     |\n",
      "|NULL               |Carol Adams   |NULL      |519.88     |\n",
      "|NULL               |Carol Adams   |Low-cost  |519.88     |\n",
      "|NULL               |Diego Ramirez |Mid-range |479.96     |\n",
      "|NULL               |Diego Ramirez |Low-cost  |119.96     |\n",
      "|NULL               |Diego Ramirez |NULL      |599.92     |\n",
      "|NULL               |Emma Robinson |NULL      |799.84     |\n",
      "|NULL               |Emma Robinson |Mid-range |319.96     |\n",
      "|NULL               |Emma Robinson |Low-cost  |479.88     |\n",
      "|NULL               |Ethan Chen    |Low-cost  |79.96      |\n",
      "|NULL               |Ethan Chen    |Mid-range |239.96     |\n",
      "|NULL               |Ethan Chen    |NULL      |319.92     |\n",
      "|NULL               |Isabella Rossi|NULL      |1119.88    |\n",
      "|NULL               |Isabella Rossi|Mid-range |1119.88    |\n",
      "|NULL               |Jack Wilson   |Premium   |1599.96    |\n",
      "|NULL               |Jack Wilson   |NULL      |1779.92    |\n",
      "|NULL               |Jack Wilson   |Low-cost  |179.96     |\n",
      "|NULL               |James Nguyen  |NULL      |339.92     |\n",
      "|NULL               |James Nguyen  |Low-cost  |339.92     |\n",
      "|NULL               |Liam O’Connor |NULL      |839.88     |\n",
      "|NULL               |Liam O’Connor |Mid-range |719.92     |\n",
      "|NULL               |Liam O’Connor |Low-cost  |119.96     |\n",
      "|NULL               |Lucas Martin  |Low-cost  |399.92     |\n",
      "|NULL               |Lucas Martin  |Premium   |999.96     |\n",
      "|NULL               |Lucas Martin  |NULL      |1399.88    |\n",
      "|NULL               |Maya Patel    |NULL      |719.88     |\n",
      "|NULL               |Maya Patel    |Mid-range |639.92     |\n",
      "|NULL               |Maya Patel    |Low-cost  |79.96      |\n",
      "|NULL               |Noah Williams |NULL      |959.88     |\n",
      "|NULL               |Noah Williams |Mid-range |959.88     |\n",
      "|NULL               |Olivia Garcia |Low-cost  |499.88     |\n",
      "|NULL               |Olivia Garcia |NULL      |499.88     |\n",
      "|NULL               |Sofia Almeida |Low-cost  |299.88     |\n",
      "|NULL               |Sofia Almeida |Mid-range |519.96     |\n",
      "|NULL               |Sofia Almeida |NULL      |819.84     |\n",
      "|NULL               |Zoe King      |NULL      |579.88     |\n",
      "|NULL               |Zoe King      |Low-cost  |99.96      |\n",
      "|NULL               |Zoe King      |Mid-range |479.92     |\n",
      "|2025-09-29 00:00:00|NULL          |NULL      |5559.28    |\n",
      "|2025-09-29 00:00:00|NULL          |Premium   |999.96     |\n",
      "|2025-09-29 00:00:00|NULL          |Mid-range |3199.68    |\n",
      "|2025-09-29 00:00:00|NULL          |Low-cost  |1359.64    |\n",
      "|2025-09-29 00:00:00|Aria Johnson  |NULL      |739.92     |\n",
      "|2025-09-29 00:00:00|Aria Johnson  |Low-cost  |139.96     |\n",
      "|2025-09-29 00:00:00|Aria Johnson  |Mid-range |599.96     |\n",
      "|2025-09-29 00:00:00|Carol Adams   |NULL      |519.88     |\n",
      "|2025-09-29 00:00:00|Carol Adams   |Low-cost  |519.88     |\n",
      "|2025-09-29 00:00:00|Isabella Rossi|Mid-range |1119.88    |\n",
      "|2025-09-29 00:00:00|Isabella Rossi|NULL      |1119.88    |\n",
      "|2025-09-29 00:00:00|Lucas Martin  |Premium   |999.96     |\n",
      "|2025-09-29 00:00:00|Lucas Martin  |NULL      |1399.88    |\n",
      "|2025-09-29 00:00:00|Lucas Martin  |Low-cost  |399.92     |\n",
      "|2025-09-29 00:00:00|Noah Williams |NULL      |959.88     |\n",
      "|2025-09-29 00:00:00|Noah Williams |Mid-range |959.88     |\n",
      "|2025-09-29 00:00:00|Sofia Almeida |Low-cost  |299.88     |\n",
      "|2025-09-29 00:00:00|Sofia Almeida |Mid-range |519.96     |\n",
      "|2025-09-29 00:00:00|Sofia Almeida |NULL      |819.84     |\n",
      "|2025-10-06 00:00:00|NULL          |Low-cost  |1699.52    |\n",
      "|2025-10-06 00:00:00|NULL          |NULL      |6979.12    |\n",
      "|2025-10-06 00:00:00|NULL          |Mid-range |2479.68    |\n",
      "|2025-10-06 00:00:00|NULL          |Premium   |2799.92    |\n",
      "|2025-10-06 00:00:00|Alice Smith   |Low-cost  |479.88     |\n",
      "|2025-10-06 00:00:00|Alice Smith   |Premium   |1199.96    |\n",
      "|2025-10-06 00:00:00|Alice Smith   |NULL      |1679.84    |\n",
      "|2025-10-06 00:00:00|Ava Thompson  |NULL      |879.88     |\n",
      "|2025-10-06 00:00:00|Ava Thompson  |Mid-range |879.88     |\n",
      "|2025-10-06 00:00:00|Bob Johnson   |NULL      |399.88     |\n",
      "|2025-10-06 00:00:00|Bob Johnson   |Low-cost  |399.88     |\n",
      "|2025-10-06 00:00:00|Diego Ramirez |NULL      |599.92     |\n",
      "|2025-10-06 00:00:00|Diego Ramirez |Low-cost  |119.96     |\n",
      "|2025-10-06 00:00:00|Diego Ramirez |Mid-range |479.96     |\n",
      "|2025-10-06 00:00:00|Jack Wilson   |Premium   |1599.96    |\n",
      "|2025-10-06 00:00:00|Jack Wilson   |Low-cost  |179.96     |\n",
      "|2025-10-06 00:00:00|Jack Wilson   |NULL      |1779.92    |\n",
      "|2025-10-06 00:00:00|James Nguyen  |Low-cost  |339.92     |\n",
      "|2025-10-06 00:00:00|James Nguyen  |NULL      |339.92     |\n",
      "|2025-10-06 00:00:00|Maya Patel    |NULL      |719.88     |\n",
      "|2025-10-06 00:00:00|Maya Patel    |Low-cost  |79.96      |\n",
      "|2025-10-06 00:00:00|Maya Patel    |Mid-range |639.92     |\n",
      "|2025-10-06 00:00:00|Zoe King      |NULL      |579.88     |\n",
      "|2025-10-06 00:00:00|Zoe King      |Mid-range |479.92     |\n",
      "|2025-10-06 00:00:00|Zoe King      |Low-cost  |99.96      |\n",
      "|2025-10-13 00:00:00|NULL          |Low-cost  |1319.64    |\n",
      "|2025-10-13 00:00:00|NULL          |Mid-range |1279.84    |\n",
      "|2025-10-13 00:00:00|NULL          |Premium   |1599.96    |\n",
      "|2025-10-13 00:00:00|NULL          |NULL      |4199.44    |\n",
      "|2025-10-13 00:00:00|Benjamin Kim  |Low-cost  |139.96     |\n",
      "|2025-10-13 00:00:00|Benjamin Kim  |NULL      |1739.92    |\n",
      "|2025-10-13 00:00:00|Benjamin Kim  |Premium   |1599.96    |\n",
      "|2025-10-13 00:00:00|Emma Robinson |Low-cost  |479.88     |\n",
      "|2025-10-13 00:00:00|Emma Robinson |Mid-range |319.96     |\n",
      "|2025-10-13 00:00:00|Emma Robinson |NULL      |799.84     |\n",
      "|2025-10-13 00:00:00|Ethan Chen    |Mid-range |239.96     |\n",
      "|2025-10-13 00:00:00|Ethan Chen    |Low-cost  |79.96      |\n",
      "|2025-10-13 00:00:00|Ethan Chen    |NULL      |319.92     |\n",
      "|2025-10-13 00:00:00|Liam O’Connor |Mid-range |719.92     |\n",
      "|2025-10-13 00:00:00|Liam O’Connor |Low-cost  |119.96     |\n",
      "|2025-10-13 00:00:00|Liam O’Connor |NULL      |839.88     |\n",
      "|2025-10-13 00:00:00|Olivia Garcia |NULL      |499.88     |\n",
      "|2025-10-13 00:00:00|Olivia Garcia |Low-cost  |499.88     |\n",
      "+-------------------+--------------+----------+-----------+\n",
      "\n"
     ]
    }
   ],
   "source": [
    "spark.sql(\"\"\"\n",
    "SELECT\n",
    "    week,\n",
    "    customer_name,\n",
    "    price_tier,\n",
    "    ROUND(SUM(quantity * price), 2) AS total_spent\n",
    "FROM (\n",
    "    SELECT\n",
    "        date_trunc('week', CAST(o.timestamp AS DATE)) AS week,\n",
    "        c.name AS customer_name,\n",
    "        CASE\n",
    "            WHEN p.price < 50 THEN 'Low-cost'\n",
    "            WHEN p.price BETWEEN 50 AND 150 THEN 'Mid-range'\n",
    "            ELSE 'Premium'\n",
    "        END AS price_tier,\n",
    "        oi.quantity,\n",
    "        p.price\n",
    "    FROM ice.demo.orders o\n",
    "    JOIN ice.demo.customers c ON o.customer_id = c.id\n",
    "    JOIN ice.demo.order_items oi ON o.id = oi.order_id\n",
    "    JOIN ice.demo.products p ON oi.product_id = p.product_id\n",
    ") base\n",
    "GROUP BY CUBE (week, customer_name, price_tier)\n",
    "ORDER BY week, customer_name\n",
    "\"\"\").show(200, truncate=False)"
   ]
  },
  {
   "cell_type": "code",
   "execution_count": 37,
   "id": "dc4ca027-05ab-432e-b24d-4940840ff73b",
   "metadata": {},
   "outputs": [],
   "source": [
    "spark.stop()"
   ]
  }
 ],
 "metadata": {
  "kernelspec": {
   "display_name": "Python 3 (ipykernel)",
   "language": "python",
   "name": "python3"
  },
  "language_info": {
   "codemirror_mode": {
    "name": "ipython",
    "version": 3
   },
   "file_extension": ".py",
   "mimetype": "text/x-python",
   "name": "python",
   "nbconvert_exporter": "python",
   "pygments_lexer": "ipython3",
   "version": "3.11.10"
  }
 },
 "nbformat": 4,
 "nbformat_minor": 5
}
